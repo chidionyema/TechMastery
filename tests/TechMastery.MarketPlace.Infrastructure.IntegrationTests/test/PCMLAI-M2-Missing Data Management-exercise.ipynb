{
 "cells": [
  {
   "cell_type": "code",
   "execution_count": 1,
   "id": "aec8035a",
   "metadata": {},
   "outputs": [],
   "source": [
    "import numpy as np\n",
    "import pandas as pd\n",
    "from scipy.stats import bernoulli"
   ]
  },
  {
   "cell_type": "markdown",
   "id": "b29256c0",
   "metadata": {},
   "source": [
    "## Missing Data Management - Probability Question\n",
    "Construct a database with $100,000$ rows where each record has $100$ fields. Assume further that for each record, each of the $100$ fields has a $1$ per cent chance of being empty, i.e., its value is missing.\n",
    "\n",
    "Remove all records with **two** or more empty fields and report the fraction of records that are removed."
   ]
  },
  {
   "cell_type": "code",
   "execution_count": null,
   "id": "90d04026",
   "metadata": {},
   "outputs": [],
   "source": [
    "answer = ..."
   ]
  }
 ],
 "metadata": {
  "kernelspec": {
   "display_name": "Python 3",
   "language": "python",
   "name": "python3"
  },
  "language_info": {
   "codemirror_mode": {
    "name": "ipython",
    "version": 3
   },
   "file_extension": ".py",
   "mimetype": "text/x-python",
   "name": "python",
   "nbconvert_exporter": "python",
   "pygments_lexer": "ipython3",
   "version": "3.8.8"
  }
 },
 "nbformat": 4,
 "nbformat_minor": 5
}
