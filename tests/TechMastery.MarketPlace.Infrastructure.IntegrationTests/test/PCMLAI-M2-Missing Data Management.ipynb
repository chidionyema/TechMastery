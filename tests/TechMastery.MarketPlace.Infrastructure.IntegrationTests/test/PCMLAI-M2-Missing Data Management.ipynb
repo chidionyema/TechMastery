{
 "cells": [
  {
   "cell_type": "code",
   "execution_count": 1,
   "id": "041b2008",
   "metadata": {},
   "outputs": [],
   "source": [
    "import pandas as pd\n",
    "import numpy as np\n",
    "from scipy.stats import bernoulli\n",
    "from scipy.stats import linregress\n",
    "import math"
   ]
  },
  {
   "cell_type": "markdown",
   "id": "c4eb7f83",
   "metadata": {},
   "source": [
    "## Missing Data Management and using Pandas"
   ]
  },
  {
   "cell_type": "markdown",
   "id": "73ffb347",
   "metadata": {},
   "source": [
    "### Step 1: Understanding how we can end up with NaNs\n",
    "As a first step, let us initiate a dataframe with two columns $X_1$ and $X_2$."
   ]
  },
  {
   "cell_type": "code",
   "execution_count": 2,
   "id": "359ffc37",
   "metadata": {},
   "outputs": [
    {
     "data": {
      "text/html": [
       "<div>\n",
       "<style scoped>\n",
       "    .dataframe tbody tr th:only-of-type {\n",
       "        vertical-align: middle;\n",
       "    }\n",
       "\n",
       "    .dataframe tbody tr th {\n",
       "        vertical-align: top;\n",
       "    }\n",
       "\n",
       "    .dataframe thead th {\n",
       "        text-align: right;\n",
       "    }\n",
       "</style>\n",
       "<table border=\"1\" class=\"dataframe\">\n",
       "  <thead>\n",
       "    <tr style=\"text-align: right;\">\n",
       "      <th></th>\n",
       "      <th>X1</th>\n",
       "      <th>X2</th>\n",
       "    </tr>\n",
       "  </thead>\n",
       "  <tbody>\n",
       "  </tbody>\n",
       "</table>\n",
       "</div>"
      ],
      "text/plain": [
       "Empty DataFrame\n",
       "Columns: [X1, X2]\n",
       "Index: []"
      ]
     },
     "execution_count": 2,
     "metadata": {},
     "output_type": "execute_result"
    }
   ],
   "source": [
    "df = pd.DataFrame(columns=['X1', 'X2'])\n",
    "df"
   ]
  },
  {
   "cell_type": "markdown",
   "id": "22a375c3",
   "metadata": {},
   "source": [
    "The dataframe is initialized, however, there is no row there. Let us create a new row whose $X_1$ value is equal to $1$."
   ]
  },
  {
   "cell_type": "code",
   "execution_count": 3,
   "id": "5043f3dd",
   "metadata": {},
   "outputs": [],
   "source": [
    "new_row = {'X1':1}\n",
    "#append this row to the dataframe\n",
    "df = df.append(new_row, ignore_index=True)"
   ]
  },
  {
   "cell_type": "code",
   "execution_count": 4,
   "id": "3cc71361",
   "metadata": {},
   "outputs": [
    {
     "data": {
      "text/html": [
       "<div>\n",
       "<style scoped>\n",
       "    .dataframe tbody tr th:only-of-type {\n",
       "        vertical-align: middle;\n",
       "    }\n",
       "\n",
       "    .dataframe tbody tr th {\n",
       "        vertical-align: top;\n",
       "    }\n",
       "\n",
       "    .dataframe thead th {\n",
       "        text-align: right;\n",
       "    }\n",
       "</style>\n",
       "<table border=\"1\" class=\"dataframe\">\n",
       "  <thead>\n",
       "    <tr style=\"text-align: right;\">\n",
       "      <th></th>\n",
       "      <th>X1</th>\n",
       "      <th>X2</th>\n",
       "    </tr>\n",
       "  </thead>\n",
       "  <tbody>\n",
       "    <tr>\n",
       "      <th>0</th>\n",
       "      <td>1.0</td>\n",
       "      <td>NaN</td>\n",
       "    </tr>\n",
       "  </tbody>\n",
       "</table>\n",
       "</div>"
      ],
      "text/plain": [
       "    X1  X2\n",
       "0  1.0 NaN"
      ]
     },
     "execution_count": 4,
     "metadata": {},
     "output_type": "execute_result"
    }
   ],
   "source": [
    "df"
   ]
  },
  {
   "cell_type": "markdown",
   "id": "082b7437",
   "metadata": {},
   "source": [
    "As we see, the $X_2$ value is NaN (Not a Number) which is traditionally used to model missing data. This approach is useful as otherwise we would not be able to add a row (i.e., if we require all the information to be complete, then the row above will not be appended)."
   ]
  },
  {
   "cell_type": "markdown",
   "id": "b7875418",
   "metadata": {},
   "source": [
    "We can similarly assign a name to a new row. For example, let's add the same row again and name it `Alice`"
   ]
  },
  {
   "cell_type": "code",
   "execution_count": 5,
   "id": "16a126fd",
   "metadata": {},
   "outputs": [
    {
     "data": {
      "text/html": [
       "<div>\n",
       "<style scoped>\n",
       "    .dataframe tbody tr th:only-of-type {\n",
       "        vertical-align: middle;\n",
       "    }\n",
       "\n",
       "    .dataframe tbody tr th {\n",
       "        vertical-align: top;\n",
       "    }\n",
       "\n",
       "    .dataframe thead th {\n",
       "        text-align: right;\n",
       "    }\n",
       "</style>\n",
       "<table border=\"1\" class=\"dataframe\">\n",
       "  <thead>\n",
       "    <tr style=\"text-align: right;\">\n",
       "      <th></th>\n",
       "      <th>X1</th>\n",
       "      <th>X2</th>\n",
       "    </tr>\n",
       "  </thead>\n",
       "  <tbody>\n",
       "    <tr>\n",
       "      <th>0</th>\n",
       "      <td>1.0</td>\n",
       "      <td>NaN</td>\n",
       "    </tr>\n",
       "    <tr>\n",
       "      <th>Alice</th>\n",
       "      <td>1.0</td>\n",
       "      <td>NaN</td>\n",
       "    </tr>\n",
       "  </tbody>\n",
       "</table>\n",
       "</div>"
      ],
      "text/plain": [
       "        X1  X2\n",
       "0      1.0 NaN\n",
       "Alice  1.0 NaN"
      ]
     },
     "execution_count": 5,
     "metadata": {},
     "output_type": "execute_result"
    }
   ],
   "source": [
    "df.loc[\"Alice\"] = new_row\n",
    "df"
   ]
  },
  {
   "cell_type": "markdown",
   "id": "1df47243",
   "metadata": {},
   "source": [
    "We can change the $X_2$ value of Alice if it is not NaN. For example:"
   ]
  },
  {
   "cell_type": "code",
   "execution_count": 6,
   "id": "771959a1",
   "metadata": {},
   "outputs": [
    {
     "data": {
      "text/html": [
       "<div>\n",
       "<style scoped>\n",
       "    .dataframe tbody tr th:only-of-type {\n",
       "        vertical-align: middle;\n",
       "    }\n",
       "\n",
       "    .dataframe tbody tr th {\n",
       "        vertical-align: top;\n",
       "    }\n",
       "\n",
       "    .dataframe thead th {\n",
       "        text-align: right;\n",
       "    }\n",
       "</style>\n",
       "<table border=\"1\" class=\"dataframe\">\n",
       "  <thead>\n",
       "    <tr style=\"text-align: right;\">\n",
       "      <th></th>\n",
       "      <th>X1</th>\n",
       "      <th>X2</th>\n",
       "    </tr>\n",
       "  </thead>\n",
       "  <tbody>\n",
       "    <tr>\n",
       "      <th>0</th>\n",
       "      <td>1.0</td>\n",
       "      <td>NaN</td>\n",
       "    </tr>\n",
       "    <tr>\n",
       "      <th>Alice</th>\n",
       "      <td>1.0</td>\n",
       "      <td>5.0</td>\n",
       "    </tr>\n",
       "  </tbody>\n",
       "</table>\n",
       "</div>"
      ],
      "text/plain": [
       "        X1   X2\n",
       "0      1.0  NaN\n",
       "Alice  1.0  5.0"
      ]
     },
     "execution_count": 6,
     "metadata": {},
     "output_type": "execute_result"
    }
   ],
   "source": [
    "df.loc[\"Alice\"]['X2'] = 5\n",
    "df"
   ]
  },
  {
   "cell_type": "markdown",
   "id": "5ea4c5e3",
   "metadata": {},
   "source": [
    "If we want to change the name of the first row, we can apply:"
   ]
  },
  {
   "cell_type": "code",
   "execution_count": 7,
   "id": "639715c2",
   "metadata": {},
   "outputs": [
    {
     "data": {
      "text/html": [
       "<div>\n",
       "<style scoped>\n",
       "    .dataframe tbody tr th:only-of-type {\n",
       "        vertical-align: middle;\n",
       "    }\n",
       "\n",
       "    .dataframe tbody tr th {\n",
       "        vertical-align: top;\n",
       "    }\n",
       "\n",
       "    .dataframe thead th {\n",
       "        text-align: right;\n",
       "    }\n",
       "</style>\n",
       "<table border=\"1\" class=\"dataframe\">\n",
       "  <thead>\n",
       "    <tr style=\"text-align: right;\">\n",
       "      <th></th>\n",
       "      <th>X1</th>\n",
       "      <th>X2</th>\n",
       "    </tr>\n",
       "  </thead>\n",
       "  <tbody>\n",
       "    <tr>\n",
       "      <th>Bob</th>\n",
       "      <td>1.0</td>\n",
       "      <td>NaN</td>\n",
       "    </tr>\n",
       "    <tr>\n",
       "      <th>Alice</th>\n",
       "      <td>1.0</td>\n",
       "      <td>5.0</td>\n",
       "    </tr>\n",
       "  </tbody>\n",
       "</table>\n",
       "</div>"
      ],
      "text/plain": [
       "        X1   X2\n",
       "Bob    1.0  NaN\n",
       "Alice  1.0  5.0"
      ]
     },
     "execution_count": 7,
     "metadata": {},
     "output_type": "execute_result"
    }
   ],
   "source": [
    "df.rename(index={0:'Bob'},inplace=True)\n",
    "df"
   ]
  },
  {
   "cell_type": "markdown",
   "id": "969ecec1",
   "metadata": {},
   "source": [
    "Let us add one more row, this time with missing $X_1$. Note that the Numpy comment `np.nan` creates NaN automatically:"
   ]
  },
  {
   "cell_type": "code",
   "execution_count": 8,
   "id": "e24a7a9f",
   "metadata": {
    "scrolled": true
   },
   "outputs": [
    {
     "data": {
      "text/html": [
       "<div>\n",
       "<style scoped>\n",
       "    .dataframe tbody tr th:only-of-type {\n",
       "        vertical-align: middle;\n",
       "    }\n",
       "\n",
       "    .dataframe tbody tr th {\n",
       "        vertical-align: top;\n",
       "    }\n",
       "\n",
       "    .dataframe thead th {\n",
       "        text-align: right;\n",
       "    }\n",
       "</style>\n",
       "<table border=\"1\" class=\"dataframe\">\n",
       "  <thead>\n",
       "    <tr style=\"text-align: right;\">\n",
       "      <th></th>\n",
       "      <th>X1</th>\n",
       "      <th>X2</th>\n",
       "    </tr>\n",
       "  </thead>\n",
       "  <tbody>\n",
       "    <tr>\n",
       "      <th>Bob</th>\n",
       "      <td>1.0</td>\n",
       "      <td>NaN</td>\n",
       "    </tr>\n",
       "    <tr>\n",
       "      <th>Alice</th>\n",
       "      <td>1.0</td>\n",
       "      <td>5.0</td>\n",
       "    </tr>\n",
       "    <tr>\n",
       "      <th>Charlie</th>\n",
       "      <td>NaN</td>\n",
       "      <td>-1.0</td>\n",
       "    </tr>\n",
       "  </tbody>\n",
       "</table>\n",
       "</div>"
      ],
      "text/plain": [
       "          X1   X2\n",
       "Bob      1.0  NaN\n",
       "Alice    1.0  5.0\n",
       "Charlie  NaN -1.0"
      ]
     },
     "execution_count": 8,
     "metadata": {},
     "output_type": "execute_result"
    }
   ],
   "source": [
    "df.loc['Charlie'] = [np.nan, -1]\n",
    "df"
   ]
  },
  {
   "cell_type": "markdown",
   "id": "dd3256f1",
   "metadata": {},
   "source": [
    "### Step 2: Operations on NaNs"
   ]
  },
  {
   "cell_type": "code",
   "execution_count": 9,
   "id": "237e815f",
   "metadata": {},
   "outputs": [
    {
     "name": "stdout",
     "output_type": "stream",
     "text": [
      "We have 1.0 and nan values\n"
     ]
    }
   ],
   "source": [
    "na_one, na_two = df.loc[\"Bob\"] #Take Bob rows\n",
    "print(\"We have\", na_one, \"and\", na_two, \"values\")"
   ]
  },
  {
   "cell_type": "code",
   "execution_count": 10,
   "id": "54166a8a",
   "metadata": {},
   "outputs": [
    {
     "name": "stdout",
     "output_type": "stream",
     "text": [
      "Sum of 1.0 and nan gives nan\n"
     ]
    }
   ],
   "source": [
    "print(\"Sum of\", na_one, \"and\", na_two, \"gives\", na_one + na_two)"
   ]
  },
  {
   "cell_type": "code",
   "execution_count": 11,
   "id": "27844d03",
   "metadata": {},
   "outputs": [
    {
     "name": "stdout",
     "output_type": "stream",
     "text": [
      "Multiplication of 1.0 and nan gives nan\n"
     ]
    }
   ],
   "source": [
    "print(\"Multiplication of\", na_one, \"and\", na_two, \"gives\", na_one * na_two)"
   ]
  },
  {
   "cell_type": "code",
   "execution_count": 12,
   "id": "da52c04d",
   "metadata": {},
   "outputs": [
    {
     "name": "stdout",
     "output_type": "stream",
     "text": [
      "Comparison of 1.0 and nan gives False\n"
     ]
    }
   ],
   "source": [
    "print(\"Comparison of\", na_one, \"and\", na_two, \"gives\", na_one == na_two)"
   ]
  },
  {
   "cell_type": "code",
   "execution_count": 13,
   "id": "faf7e13a",
   "metadata": {},
   "outputs": [
    {
     "name": "stdout",
     "output_type": "stream",
     "text": [
      "Comparison of nan and nan gives False that is, NaN is not even equal to itself\n"
     ]
    }
   ],
   "source": [
    "print(\"Comparison of\", na_two, \"and\", na_two, \"gives\", na_two == na_two, \"that is, NaN is not even equal to itself\")"
   ]
  },
  {
   "cell_type": "markdown",
   "id": "b3abfd3a",
   "metadata": {},
   "source": [
    "We usually ask if a value is nan as the following:"
   ]
  },
  {
   "cell_type": "code",
   "execution_count": 14,
   "id": "20e11333",
   "metadata": {},
   "outputs": [
    {
     "data": {
      "text/plain": [
       "True"
      ]
     },
     "execution_count": 14,
     "metadata": {},
     "output_type": "execute_result"
    }
   ],
   "source": [
    "np.isnan(na_two) #use numpy"
   ]
  },
  {
   "cell_type": "code",
   "execution_count": 15,
   "id": "f97ea6e2",
   "metadata": {},
   "outputs": [
    {
     "data": {
      "text/plain": [
       "True"
      ]
     },
     "execution_count": 15,
     "metadata": {},
     "output_type": "execute_result"
    }
   ],
   "source": [
    "math.isnan(na_two) #use math"
   ]
  },
  {
   "cell_type": "code",
   "execution_count": 16,
   "id": "6ee51537",
   "metadata": {},
   "outputs": [
    {
     "data": {
      "text/plain": [
       "True"
      ]
     },
     "execution_count": 16,
     "metadata": {},
     "output_type": "execute_result"
    }
   ],
   "source": [
    "pd.isnull(na_two) #use pandas "
   ]
  },
  {
   "cell_type": "markdown",
   "id": "d5d1b9b0",
   "metadata": {},
   "source": [
    "Moreover, oficially NaN is stored as a floating number"
   ]
  },
  {
   "cell_type": "code",
   "execution_count": 17,
   "id": "930dddbc",
   "metadata": {},
   "outputs": [
    {
     "data": {
      "text/plain": [
       "float"
      ]
     },
     "execution_count": 17,
     "metadata": {},
     "output_type": "execute_result"
    }
   ],
   "source": [
    "type(na_two)"
   ]
  },
  {
   "cell_type": "markdown",
   "id": "bce2767d",
   "metadata": {},
   "source": [
    "So if we compare the types of NaN and a number, you get"
   ]
  },
  {
   "cell_type": "code",
   "execution_count": 18,
   "id": "a73dac0e",
   "metadata": {},
   "outputs": [
    {
     "data": {
      "text/plain": [
       "True"
      ]
     },
     "execution_count": 18,
     "metadata": {},
     "output_type": "execute_result"
    }
   ],
   "source": [
    "type(na_one) == type(na_two)"
   ]
  },
  {
   "cell_type": "markdown",
   "id": "a240a0e7",
   "metadata": {},
   "source": [
    "### Step 3: Using Pandas to work with NaNs"
   ]
  },
  {
   "cell_type": "markdown",
   "id": "c1a75b93",
   "metadata": {},
   "source": [
    "The following drops all the rows of `df` where at least one of the values is missing, and creates a new dataframe"
   ]
  },
  {
   "cell_type": "code",
   "execution_count": 19,
   "id": "d237d613",
   "metadata": {},
   "outputs": [
    {
     "data": {
      "text/html": [
       "<div>\n",
       "<style scoped>\n",
       "    .dataframe tbody tr th:only-of-type {\n",
       "        vertical-align: middle;\n",
       "    }\n",
       "\n",
       "    .dataframe tbody tr th {\n",
       "        vertical-align: top;\n",
       "    }\n",
       "\n",
       "    .dataframe thead th {\n",
       "        text-align: right;\n",
       "    }\n",
       "</style>\n",
       "<table border=\"1\" class=\"dataframe\">\n",
       "  <thead>\n",
       "    <tr style=\"text-align: right;\">\n",
       "      <th></th>\n",
       "      <th>X1</th>\n",
       "      <th>X2</th>\n",
       "    </tr>\n",
       "  </thead>\n",
       "  <tbody>\n",
       "    <tr>\n",
       "      <th>Alice</th>\n",
       "      <td>1.0</td>\n",
       "      <td>5.0</td>\n",
       "    </tr>\n",
       "  </tbody>\n",
       "</table>\n",
       "</div>"
      ],
      "text/plain": [
       "        X1   X2\n",
       "Alice  1.0  5.0"
      ]
     },
     "execution_count": 19,
     "metadata": {},
     "output_type": "execute_result"
    }
   ],
   "source": [
    "df2 = df.dropna()\n",
    "df2"
   ]
  },
  {
   "cell_type": "markdown",
   "id": "e501164f",
   "metadata": {},
   "source": [
    "Or, we can drop all the rows where $X_1$ value is NaN"
   ]
  },
  {
   "cell_type": "code",
   "execution_count": 20,
   "id": "2c27f995",
   "metadata": {},
   "outputs": [
    {
     "data": {
      "text/html": [
       "<div>\n",
       "<style scoped>\n",
       "    .dataframe tbody tr th:only-of-type {\n",
       "        vertical-align: middle;\n",
       "    }\n",
       "\n",
       "    .dataframe tbody tr th {\n",
       "        vertical-align: top;\n",
       "    }\n",
       "\n",
       "    .dataframe thead th {\n",
       "        text-align: right;\n",
       "    }\n",
       "</style>\n",
       "<table border=\"1\" class=\"dataframe\">\n",
       "  <thead>\n",
       "    <tr style=\"text-align: right;\">\n",
       "      <th></th>\n",
       "      <th>X1</th>\n",
       "      <th>X2</th>\n",
       "    </tr>\n",
       "  </thead>\n",
       "  <tbody>\n",
       "    <tr>\n",
       "      <th>Bob</th>\n",
       "      <td>1.0</td>\n",
       "      <td>NaN</td>\n",
       "    </tr>\n",
       "    <tr>\n",
       "      <th>Alice</th>\n",
       "      <td>1.0</td>\n",
       "      <td>5.0</td>\n",
       "    </tr>\n",
       "  </tbody>\n",
       "</table>\n",
       "</div>"
      ],
      "text/plain": [
       "        X1   X2\n",
       "Bob    1.0  NaN\n",
       "Alice  1.0  5.0"
      ]
     },
     "execution_count": 20,
     "metadata": {},
     "output_type": "execute_result"
    }
   ],
   "source": [
    "df2 = df.dropna(subset = [\"X1\"])\n",
    "df2"
   ]
  },
  {
   "cell_type": "code",
   "execution_count": 21,
   "id": "c69d727e",
   "metadata": {},
   "outputs": [
    {
     "data": {
      "text/html": [
       "<div>\n",
       "<style scoped>\n",
       "    .dataframe tbody tr th:only-of-type {\n",
       "        vertical-align: middle;\n",
       "    }\n",
       "\n",
       "    .dataframe tbody tr th {\n",
       "        vertical-align: top;\n",
       "    }\n",
       "\n",
       "    .dataframe thead th {\n",
       "        text-align: right;\n",
       "    }\n",
       "</style>\n",
       "<table border=\"1\" class=\"dataframe\">\n",
       "  <thead>\n",
       "    <tr style=\"text-align: right;\">\n",
       "      <th></th>\n",
       "      <th>X1</th>\n",
       "      <th>X2</th>\n",
       "    </tr>\n",
       "  </thead>\n",
       "  <tbody>\n",
       "    <tr>\n",
       "      <th>Alice</th>\n",
       "      <td>1.0</td>\n",
       "      <td>5.0</td>\n",
       "    </tr>\n",
       "    <tr>\n",
       "      <th>Charlie</th>\n",
       "      <td>NaN</td>\n",
       "      <td>-1.0</td>\n",
       "    </tr>\n",
       "  </tbody>\n",
       "</table>\n",
       "</div>"
      ],
      "text/plain": [
       "          X1   X2\n",
       "Alice    1.0  5.0\n",
       "Charlie  NaN -1.0"
      ]
     },
     "execution_count": 21,
     "metadata": {},
     "output_type": "execute_result"
    }
   ],
   "source": [
    "df2 = df.dropna(subset = [\"X2\"]) #similar for X2\n",
    "df2"
   ]
  },
  {
   "cell_type": "markdown",
   "id": "a67082dc",
   "metadata": {},
   "source": [
    "Add a new row based on $X_2$"
   ]
  },
  {
   "cell_type": "code",
   "execution_count": 22,
   "id": "cf3b84b9",
   "metadata": {},
   "outputs": [
    {
     "data": {
      "text/html": [
       "<div>\n",
       "<style scoped>\n",
       "    .dataframe tbody tr th:only-of-type {\n",
       "        vertical-align: middle;\n",
       "    }\n",
       "\n",
       "    .dataframe tbody tr th {\n",
       "        vertical-align: top;\n",
       "    }\n",
       "\n",
       "    .dataframe thead th {\n",
       "        text-align: right;\n",
       "    }\n",
       "</style>\n",
       "<table border=\"1\" class=\"dataframe\">\n",
       "  <thead>\n",
       "    <tr style=\"text-align: right;\">\n",
       "      <th></th>\n",
       "      <th>X1</th>\n",
       "      <th>X2</th>\n",
       "      <th>X3</th>\n",
       "    </tr>\n",
       "  </thead>\n",
       "  <tbody>\n",
       "    <tr>\n",
       "      <th>Bob</th>\n",
       "      <td>1.0</td>\n",
       "      <td>NaN</td>\n",
       "      <td>NaN</td>\n",
       "    </tr>\n",
       "    <tr>\n",
       "      <th>Alice</th>\n",
       "      <td>1.0</td>\n",
       "      <td>5.0</td>\n",
       "      <td>10.0</td>\n",
       "    </tr>\n",
       "    <tr>\n",
       "      <th>Charlie</th>\n",
       "      <td>NaN</td>\n",
       "      <td>-1.0</td>\n",
       "      <td>-2.0</td>\n",
       "    </tr>\n",
       "  </tbody>\n",
       "</table>\n",
       "</div>"
      ],
      "text/plain": [
       "          X1   X2    X3\n",
       "Bob      1.0  NaN   NaN\n",
       "Alice    1.0  5.0  10.0\n",
       "Charlie  NaN -1.0  -2.0"
      ]
     },
     "execution_count": 22,
     "metadata": {},
     "output_type": "execute_result"
    }
   ],
   "source": [
    "df[\"X3\"]  = df[\"X2\"]*2\n",
    "df"
   ]
  },
  {
   "cell_type": "markdown",
   "id": "f9462a14",
   "metadata": {},
   "source": [
    "Or, alternatively"
   ]
  },
  {
   "cell_type": "code",
   "execution_count": 23,
   "id": "5968da41",
   "metadata": {},
   "outputs": [
    {
     "data": {
      "text/html": [
       "<div>\n",
       "<style scoped>\n",
       "    .dataframe tbody tr th:only-of-type {\n",
       "        vertical-align: middle;\n",
       "    }\n",
       "\n",
       "    .dataframe tbody tr th {\n",
       "        vertical-align: top;\n",
       "    }\n",
       "\n",
       "    .dataframe thead th {\n",
       "        text-align: right;\n",
       "    }\n",
       "</style>\n",
       "<table border=\"1\" class=\"dataframe\">\n",
       "  <thead>\n",
       "    <tr style=\"text-align: right;\">\n",
       "      <th></th>\n",
       "      <th>X1</th>\n",
       "      <th>X2</th>\n",
       "      <th>X3</th>\n",
       "    </tr>\n",
       "  </thead>\n",
       "  <tbody>\n",
       "    <tr>\n",
       "      <th>Bob</th>\n",
       "      <td>1.0</td>\n",
       "      <td>NaN</td>\n",
       "      <td>NaN</td>\n",
       "    </tr>\n",
       "    <tr>\n",
       "      <th>Alice</th>\n",
       "      <td>1.0</td>\n",
       "      <td>5.0</td>\n",
       "      <td>10.0</td>\n",
       "    </tr>\n",
       "    <tr>\n",
       "      <th>Charlie</th>\n",
       "      <td>NaN</td>\n",
       "      <td>-1.0</td>\n",
       "      <td>-2.0</td>\n",
       "    </tr>\n",
       "  </tbody>\n",
       "</table>\n",
       "</div>"
      ],
      "text/plain": [
       "          X1   X2    X3\n",
       "Bob      1.0  NaN   NaN\n",
       "Alice    1.0  5.0  10.0\n",
       "Charlie  NaN -1.0  -2.0"
      ]
     },
     "execution_count": 23,
     "metadata": {},
     "output_type": "execute_result"
    }
   ],
   "source": [
    "df[\"X3\"] = df.apply(lambda row: row[\"X2\"]*2, axis=1)\n",
    "df"
   ]
  },
  {
   "cell_type": "markdown",
   "id": "2bba91b4",
   "metadata": {},
   "source": [
    "If we want special treatment to NaN values, for example, if we want to initalize $X_3$ value as $0$ if $X_2$ is NaN, we can apply:"
   ]
  },
  {
   "cell_type": "code",
   "execution_count": 24,
   "id": "02679bc6",
   "metadata": {},
   "outputs": [
    {
     "data": {
      "text/html": [
       "<div>\n",
       "<style scoped>\n",
       "    .dataframe tbody tr th:only-of-type {\n",
       "        vertical-align: middle;\n",
       "    }\n",
       "\n",
       "    .dataframe tbody tr th {\n",
       "        vertical-align: top;\n",
       "    }\n",
       "\n",
       "    .dataframe thead th {\n",
       "        text-align: right;\n",
       "    }\n",
       "</style>\n",
       "<table border=\"1\" class=\"dataframe\">\n",
       "  <thead>\n",
       "    <tr style=\"text-align: right;\">\n",
       "      <th></th>\n",
       "      <th>X1</th>\n",
       "      <th>X2</th>\n",
       "      <th>X3</th>\n",
       "    </tr>\n",
       "  </thead>\n",
       "  <tbody>\n",
       "    <tr>\n",
       "      <th>Bob</th>\n",
       "      <td>1.0</td>\n",
       "      <td>NaN</td>\n",
       "      <td>0.0</td>\n",
       "    </tr>\n",
       "    <tr>\n",
       "      <th>Alice</th>\n",
       "      <td>1.0</td>\n",
       "      <td>5.0</td>\n",
       "      <td>10.0</td>\n",
       "    </tr>\n",
       "    <tr>\n",
       "      <th>Charlie</th>\n",
       "      <td>NaN</td>\n",
       "      <td>-1.0</td>\n",
       "      <td>-2.0</td>\n",
       "    </tr>\n",
       "  </tbody>\n",
       "</table>\n",
       "</div>"
      ],
      "text/plain": [
       "          X1   X2    X3\n",
       "Bob      1.0  NaN   0.0\n",
       "Alice    1.0  5.0  10.0\n",
       "Charlie  NaN -1.0  -2.0"
      ]
     },
     "execution_count": 24,
     "metadata": {},
     "output_type": "execute_result"
    }
   ],
   "source": [
    "df[\"X3\"] = df.apply(lambda row: row[\"X2\"]*2 if ~np.isnan(row[\"X2\"]) else 0, axis=1)\n",
    "df"
   ]
  },
  {
   "cell_type": "markdown",
   "id": "de4a64a9",
   "metadata": {},
   "source": [
    "### Step 4: Exercise from the course\n",
    "Consider a database where each record has $100$ fields. Assume further that for each record, each of the $100$ fields has a $1$ per cent chance of being empty, i.e. its value is missing.\n",
    "\n",
    "If we were to remove all records with one or more empty fields, how many records would we remove?"
   ]
  },
  {
   "cell_type": "code",
   "execution_count": 25,
   "id": "e1ac4554",
   "metadata": {},
   "outputs": [],
   "source": [
    "#Step i) Generate a matrix of rowx * 100 columns\n",
    "nr_rows = 10000 #let's say we have this many rows\n",
    "data_to_use = np.ones(nr_rows*100) #generate all-ones\n",
    "df_exercise = pd.DataFrame(data_to_use.reshape(nr_rows, 100)) #reshape the data so that we have rows * 100"
   ]
  },
  {
   "cell_type": "code",
   "execution_count": 26,
   "id": "76be6363",
   "metadata": {},
   "outputs": [],
   "source": [
    "#Step ii) Generate indices of missing values\n",
    "missing_or_not = bernoulli.rvs((1/100), size=nr_rows*100) #keeps whether or not each element of df_exercise is missing\n",
    "missing_or_not = missing_or_not.reshape(nr_rows, 100) #reshape so that index of missing values correspond to df_exercise"
   ]
  },
  {
   "cell_type": "code",
   "execution_count": 27,
   "id": "b93bb3c3",
   "metadata": {},
   "outputs": [],
   "source": [
    "missing_rows, missing_cols = np.where(missing_or_not == 1) #indices of missing values"
   ]
  },
  {
   "cell_type": "code",
   "execution_count": 28,
   "id": "6279ab79",
   "metadata": {},
   "outputs": [],
   "source": [
    "df_exercise.values[missing_rows, missing_cols] = np.nan #make the values missing for those indices"
   ]
  },
  {
   "cell_type": "code",
   "execution_count": 29,
   "id": "35936585",
   "metadata": {},
   "outputs": [
    {
     "data": {
      "text/html": [
       "<div>\n",
       "<style scoped>\n",
       "    .dataframe tbody tr th:only-of-type {\n",
       "        vertical-align: middle;\n",
       "    }\n",
       "\n",
       "    .dataframe tbody tr th {\n",
       "        vertical-align: top;\n",
       "    }\n",
       "\n",
       "    .dataframe thead th {\n",
       "        text-align: right;\n",
       "    }\n",
       "</style>\n",
       "<table border=\"1\" class=\"dataframe\">\n",
       "  <thead>\n",
       "    <tr style=\"text-align: right;\">\n",
       "      <th></th>\n",
       "      <th>0</th>\n",
       "      <th>1</th>\n",
       "      <th>2</th>\n",
       "      <th>3</th>\n",
       "      <th>4</th>\n",
       "      <th>5</th>\n",
       "      <th>6</th>\n",
       "      <th>7</th>\n",
       "      <th>8</th>\n",
       "      <th>9</th>\n",
       "      <th>...</th>\n",
       "      <th>90</th>\n",
       "      <th>91</th>\n",
       "      <th>92</th>\n",
       "      <th>93</th>\n",
       "      <th>94</th>\n",
       "      <th>95</th>\n",
       "      <th>96</th>\n",
       "      <th>97</th>\n",
       "      <th>98</th>\n",
       "      <th>99</th>\n",
       "    </tr>\n",
       "  </thead>\n",
       "  <tbody>\n",
       "    <tr>\n",
       "      <th>0</th>\n",
       "      <td>1.0</td>\n",
       "      <td>1.0</td>\n",
       "      <td>1.0</td>\n",
       "      <td>1.0</td>\n",
       "      <td>1.0</td>\n",
       "      <td>1.0</td>\n",
       "      <td>1.0</td>\n",
       "      <td>1.0</td>\n",
       "      <td>NaN</td>\n",
       "      <td>1.0</td>\n",
       "      <td>...</td>\n",
       "      <td>1.0</td>\n",
       "      <td>1.0</td>\n",
       "      <td>1.0</td>\n",
       "      <td>1.0</td>\n",
       "      <td>1.0</td>\n",
       "      <td>1.0</td>\n",
       "      <td>1.0</td>\n",
       "      <td>1.0</td>\n",
       "      <td>1.0</td>\n",
       "      <td>1.0</td>\n",
       "    </tr>\n",
       "    <tr>\n",
       "      <th>1</th>\n",
       "      <td>1.0</td>\n",
       "      <td>1.0</td>\n",
       "      <td>1.0</td>\n",
       "      <td>1.0</td>\n",
       "      <td>1.0</td>\n",
       "      <td>1.0</td>\n",
       "      <td>1.0</td>\n",
       "      <td>1.0</td>\n",
       "      <td>1.0</td>\n",
       "      <td>1.0</td>\n",
       "      <td>...</td>\n",
       "      <td>1.0</td>\n",
       "      <td>1.0</td>\n",
       "      <td>NaN</td>\n",
       "      <td>1.0</td>\n",
       "      <td>1.0</td>\n",
       "      <td>1.0</td>\n",
       "      <td>1.0</td>\n",
       "      <td>1.0</td>\n",
       "      <td>1.0</td>\n",
       "      <td>1.0</td>\n",
       "    </tr>\n",
       "    <tr>\n",
       "      <th>2</th>\n",
       "      <td>1.0</td>\n",
       "      <td>1.0</td>\n",
       "      <td>1.0</td>\n",
       "      <td>1.0</td>\n",
       "      <td>1.0</td>\n",
       "      <td>1.0</td>\n",
       "      <td>1.0</td>\n",
       "      <td>1.0</td>\n",
       "      <td>1.0</td>\n",
       "      <td>1.0</td>\n",
       "      <td>...</td>\n",
       "      <td>1.0</td>\n",
       "      <td>1.0</td>\n",
       "      <td>1.0</td>\n",
       "      <td>1.0</td>\n",
       "      <td>1.0</td>\n",
       "      <td>1.0</td>\n",
       "      <td>1.0</td>\n",
       "      <td>1.0</td>\n",
       "      <td>1.0</td>\n",
       "      <td>1.0</td>\n",
       "    </tr>\n",
       "    <tr>\n",
       "      <th>3</th>\n",
       "      <td>1.0</td>\n",
       "      <td>1.0</td>\n",
       "      <td>1.0</td>\n",
       "      <td>1.0</td>\n",
       "      <td>1.0</td>\n",
       "      <td>1.0</td>\n",
       "      <td>1.0</td>\n",
       "      <td>1.0</td>\n",
       "      <td>NaN</td>\n",
       "      <td>1.0</td>\n",
       "      <td>...</td>\n",
       "      <td>1.0</td>\n",
       "      <td>1.0</td>\n",
       "      <td>1.0</td>\n",
       "      <td>1.0</td>\n",
       "      <td>1.0</td>\n",
       "      <td>1.0</td>\n",
       "      <td>1.0</td>\n",
       "      <td>1.0</td>\n",
       "      <td>1.0</td>\n",
       "      <td>1.0</td>\n",
       "    </tr>\n",
       "    <tr>\n",
       "      <th>4</th>\n",
       "      <td>1.0</td>\n",
       "      <td>1.0</td>\n",
       "      <td>1.0</td>\n",
       "      <td>1.0</td>\n",
       "      <td>1.0</td>\n",
       "      <td>1.0</td>\n",
       "      <td>1.0</td>\n",
       "      <td>1.0</td>\n",
       "      <td>1.0</td>\n",
       "      <td>1.0</td>\n",
       "      <td>...</td>\n",
       "      <td>1.0</td>\n",
       "      <td>1.0</td>\n",
       "      <td>1.0</td>\n",
       "      <td>1.0</td>\n",
       "      <td>1.0</td>\n",
       "      <td>1.0</td>\n",
       "      <td>1.0</td>\n",
       "      <td>1.0</td>\n",
       "      <td>1.0</td>\n",
       "      <td>1.0</td>\n",
       "    </tr>\n",
       "    <tr>\n",
       "      <th>...</th>\n",
       "      <td>...</td>\n",
       "      <td>...</td>\n",
       "      <td>...</td>\n",
       "      <td>...</td>\n",
       "      <td>...</td>\n",
       "      <td>...</td>\n",
       "      <td>...</td>\n",
       "      <td>...</td>\n",
       "      <td>...</td>\n",
       "      <td>...</td>\n",
       "      <td>...</td>\n",
       "      <td>...</td>\n",
       "      <td>...</td>\n",
       "      <td>...</td>\n",
       "      <td>...</td>\n",
       "      <td>...</td>\n",
       "      <td>...</td>\n",
       "      <td>...</td>\n",
       "      <td>...</td>\n",
       "      <td>...</td>\n",
       "      <td>...</td>\n",
       "    </tr>\n",
       "    <tr>\n",
       "      <th>9995</th>\n",
       "      <td>1.0</td>\n",
       "      <td>1.0</td>\n",
       "      <td>1.0</td>\n",
       "      <td>1.0</td>\n",
       "      <td>1.0</td>\n",
       "      <td>1.0</td>\n",
       "      <td>1.0</td>\n",
       "      <td>1.0</td>\n",
       "      <td>1.0</td>\n",
       "      <td>1.0</td>\n",
       "      <td>...</td>\n",
       "      <td>1.0</td>\n",
       "      <td>1.0</td>\n",
       "      <td>1.0</td>\n",
       "      <td>1.0</td>\n",
       "      <td>1.0</td>\n",
       "      <td>1.0</td>\n",
       "      <td>1.0</td>\n",
       "      <td>1.0</td>\n",
       "      <td>1.0</td>\n",
       "      <td>1.0</td>\n",
       "    </tr>\n",
       "    <tr>\n",
       "      <th>9996</th>\n",
       "      <td>1.0</td>\n",
       "      <td>1.0</td>\n",
       "      <td>1.0</td>\n",
       "      <td>1.0</td>\n",
       "      <td>1.0</td>\n",
       "      <td>1.0</td>\n",
       "      <td>1.0</td>\n",
       "      <td>1.0</td>\n",
       "      <td>1.0</td>\n",
       "      <td>1.0</td>\n",
       "      <td>...</td>\n",
       "      <td>1.0</td>\n",
       "      <td>1.0</td>\n",
       "      <td>1.0</td>\n",
       "      <td>1.0</td>\n",
       "      <td>1.0</td>\n",
       "      <td>1.0</td>\n",
       "      <td>1.0</td>\n",
       "      <td>1.0</td>\n",
       "      <td>1.0</td>\n",
       "      <td>1.0</td>\n",
       "    </tr>\n",
       "    <tr>\n",
       "      <th>9997</th>\n",
       "      <td>1.0</td>\n",
       "      <td>1.0</td>\n",
       "      <td>1.0</td>\n",
       "      <td>1.0</td>\n",
       "      <td>1.0</td>\n",
       "      <td>1.0</td>\n",
       "      <td>1.0</td>\n",
       "      <td>1.0</td>\n",
       "      <td>1.0</td>\n",
       "      <td>1.0</td>\n",
       "      <td>...</td>\n",
       "      <td>1.0</td>\n",
       "      <td>1.0</td>\n",
       "      <td>1.0</td>\n",
       "      <td>1.0</td>\n",
       "      <td>1.0</td>\n",
       "      <td>1.0</td>\n",
       "      <td>1.0</td>\n",
       "      <td>1.0</td>\n",
       "      <td>1.0</td>\n",
       "      <td>1.0</td>\n",
       "    </tr>\n",
       "    <tr>\n",
       "      <th>9998</th>\n",
       "      <td>1.0</td>\n",
       "      <td>1.0</td>\n",
       "      <td>1.0</td>\n",
       "      <td>1.0</td>\n",
       "      <td>1.0</td>\n",
       "      <td>1.0</td>\n",
       "      <td>1.0</td>\n",
       "      <td>1.0</td>\n",
       "      <td>1.0</td>\n",
       "      <td>1.0</td>\n",
       "      <td>...</td>\n",
       "      <td>1.0</td>\n",
       "      <td>1.0</td>\n",
       "      <td>1.0</td>\n",
       "      <td>1.0</td>\n",
       "      <td>1.0</td>\n",
       "      <td>1.0</td>\n",
       "      <td>1.0</td>\n",
       "      <td>1.0</td>\n",
       "      <td>1.0</td>\n",
       "      <td>1.0</td>\n",
       "    </tr>\n",
       "    <tr>\n",
       "      <th>9999</th>\n",
       "      <td>1.0</td>\n",
       "      <td>1.0</td>\n",
       "      <td>1.0</td>\n",
       "      <td>1.0</td>\n",
       "      <td>1.0</td>\n",
       "      <td>1.0</td>\n",
       "      <td>1.0</td>\n",
       "      <td>1.0</td>\n",
       "      <td>1.0</td>\n",
       "      <td>1.0</td>\n",
       "      <td>...</td>\n",
       "      <td>1.0</td>\n",
       "      <td>1.0</td>\n",
       "      <td>1.0</td>\n",
       "      <td>1.0</td>\n",
       "      <td>1.0</td>\n",
       "      <td>1.0</td>\n",
       "      <td>1.0</td>\n",
       "      <td>1.0</td>\n",
       "      <td>1.0</td>\n",
       "      <td>1.0</td>\n",
       "    </tr>\n",
       "  </tbody>\n",
       "</table>\n",
       "<p>10000 rows × 100 columns</p>\n",
       "</div>"
      ],
      "text/plain": [
       "       0    1    2    3    4    5    6    7    8    9   ...   90   91   92  \\\n",
       "0     1.0  1.0  1.0  1.0  1.0  1.0  1.0  1.0  NaN  1.0  ...  1.0  1.0  1.0   \n",
       "1     1.0  1.0  1.0  1.0  1.0  1.0  1.0  1.0  1.0  1.0  ...  1.0  1.0  NaN   \n",
       "2     1.0  1.0  1.0  1.0  1.0  1.0  1.0  1.0  1.0  1.0  ...  1.0  1.0  1.0   \n",
       "3     1.0  1.0  1.0  1.0  1.0  1.0  1.0  1.0  NaN  1.0  ...  1.0  1.0  1.0   \n",
       "4     1.0  1.0  1.0  1.0  1.0  1.0  1.0  1.0  1.0  1.0  ...  1.0  1.0  1.0   \n",
       "...   ...  ...  ...  ...  ...  ...  ...  ...  ...  ...  ...  ...  ...  ...   \n",
       "9995  1.0  1.0  1.0  1.0  1.0  1.0  1.0  1.0  1.0  1.0  ...  1.0  1.0  1.0   \n",
       "9996  1.0  1.0  1.0  1.0  1.0  1.0  1.0  1.0  1.0  1.0  ...  1.0  1.0  1.0   \n",
       "9997  1.0  1.0  1.0  1.0  1.0  1.0  1.0  1.0  1.0  1.0  ...  1.0  1.0  1.0   \n",
       "9998  1.0  1.0  1.0  1.0  1.0  1.0  1.0  1.0  1.0  1.0  ...  1.0  1.0  1.0   \n",
       "9999  1.0  1.0  1.0  1.0  1.0  1.0  1.0  1.0  1.0  1.0  ...  1.0  1.0  1.0   \n",
       "\n",
       "       93   94   95   96   97   98   99  \n",
       "0     1.0  1.0  1.0  1.0  1.0  1.0  1.0  \n",
       "1     1.0  1.0  1.0  1.0  1.0  1.0  1.0  \n",
       "2     1.0  1.0  1.0  1.0  1.0  1.0  1.0  \n",
       "3     1.0  1.0  1.0  1.0  1.0  1.0  1.0  \n",
       "4     1.0  1.0  1.0  1.0  1.0  1.0  1.0  \n",
       "...   ...  ...  ...  ...  ...  ...  ...  \n",
       "9995  1.0  1.0  1.0  1.0  1.0  1.0  1.0  \n",
       "9996  1.0  1.0  1.0  1.0  1.0  1.0  1.0  \n",
       "9997  1.0  1.0  1.0  1.0  1.0  1.0  1.0  \n",
       "9998  1.0  1.0  1.0  1.0  1.0  1.0  1.0  \n",
       "9999  1.0  1.0  1.0  1.0  1.0  1.0  1.0  \n",
       "\n",
       "[10000 rows x 100 columns]"
      ]
     },
     "execution_count": 29,
     "metadata": {},
     "output_type": "execute_result"
    }
   ],
   "source": [
    "df_exercise"
   ]
  },
  {
   "cell_type": "code",
   "execution_count": 30,
   "id": "da7a7d16",
   "metadata": {},
   "outputs": [
    {
     "name": "stdout",
     "output_type": "stream",
     "text": [
      "In total, there are 9976 missing values\n"
     ]
    }
   ],
   "source": [
    "print(\"In total, there are\" ,np.sum(df_exercise.isnull().sum()),\"missing values\")\n",
    "#It should match `np.size(missing_rows)`"
   ]
  },
  {
   "cell_type": "code",
   "execution_count": 31,
   "id": "d3c7f849",
   "metadata": {},
   "outputs": [],
   "source": [
    "#Let's see how many rows have at least one NaN\n",
    "df_missing = df_exercise.isnull().any(axis=1) #each tow has True if at least one element is nan, False otherwise"
   ]
  },
  {
   "cell_type": "code",
   "execution_count": 32,
   "id": "212220fa",
   "metadata": {},
   "outputs": [
    {
     "name": "stdout",
     "output_type": "stream",
     "text": [
      "There are 6327 rows with at least one missing data\n",
      "So if we drop rows with missing values, we lose 0.6327 fraction of the whole data\n"
     ]
    }
   ],
   "source": [
    "print(\"There are\", np.sum(df_missing), \"rows with at least one missing data\")\n",
    "print(\"So if we drop rows with missing values, we lose\", np.sum(df_missing)/nr_rows, \"fraction of the whole data\")"
   ]
  },
  {
   "cell_type": "code",
   "execution_count": 33,
   "id": "4db0ef44",
   "metadata": {
    "scrolled": false
   },
   "outputs": [
    {
     "name": "stdout",
     "output_type": "stream",
     "text": [
      "In other words, the following has 3673 rows\n"
     ]
    },
    {
     "data": {
      "text/html": [
       "<div>\n",
       "<style scoped>\n",
       "    .dataframe tbody tr th:only-of-type {\n",
       "        vertical-align: middle;\n",
       "    }\n",
       "\n",
       "    .dataframe tbody tr th {\n",
       "        vertical-align: top;\n",
       "    }\n",
       "\n",
       "    .dataframe thead th {\n",
       "        text-align: right;\n",
       "    }\n",
       "</style>\n",
       "<table border=\"1\" class=\"dataframe\">\n",
       "  <thead>\n",
       "    <tr style=\"text-align: right;\">\n",
       "      <th></th>\n",
       "      <th>0</th>\n",
       "      <th>1</th>\n",
       "      <th>2</th>\n",
       "      <th>3</th>\n",
       "      <th>4</th>\n",
       "      <th>5</th>\n",
       "      <th>6</th>\n",
       "      <th>7</th>\n",
       "      <th>8</th>\n",
       "      <th>9</th>\n",
       "      <th>...</th>\n",
       "      <th>90</th>\n",
       "      <th>91</th>\n",
       "      <th>92</th>\n",
       "      <th>93</th>\n",
       "      <th>94</th>\n",
       "      <th>95</th>\n",
       "      <th>96</th>\n",
       "      <th>97</th>\n",
       "      <th>98</th>\n",
       "      <th>99</th>\n",
       "    </tr>\n",
       "  </thead>\n",
       "  <tbody>\n",
       "    <tr>\n",
       "      <th>5</th>\n",
       "      <td>1.0</td>\n",
       "      <td>1.0</td>\n",
       "      <td>1.0</td>\n",
       "      <td>1.0</td>\n",
       "      <td>1.0</td>\n",
       "      <td>1.0</td>\n",
       "      <td>1.0</td>\n",
       "      <td>1.0</td>\n",
       "      <td>1.0</td>\n",
       "      <td>1.0</td>\n",
       "      <td>...</td>\n",
       "      <td>1.0</td>\n",
       "      <td>1.0</td>\n",
       "      <td>1.0</td>\n",
       "      <td>1.0</td>\n",
       "      <td>1.0</td>\n",
       "      <td>1.0</td>\n",
       "      <td>1.0</td>\n",
       "      <td>1.0</td>\n",
       "      <td>1.0</td>\n",
       "      <td>1.0</td>\n",
       "    </tr>\n",
       "    <tr>\n",
       "      <th>7</th>\n",
       "      <td>1.0</td>\n",
       "      <td>1.0</td>\n",
       "      <td>1.0</td>\n",
       "      <td>1.0</td>\n",
       "      <td>1.0</td>\n",
       "      <td>1.0</td>\n",
       "      <td>1.0</td>\n",
       "      <td>1.0</td>\n",
       "      <td>1.0</td>\n",
       "      <td>1.0</td>\n",
       "      <td>...</td>\n",
       "      <td>1.0</td>\n",
       "      <td>1.0</td>\n",
       "      <td>1.0</td>\n",
       "      <td>1.0</td>\n",
       "      <td>1.0</td>\n",
       "      <td>1.0</td>\n",
       "      <td>1.0</td>\n",
       "      <td>1.0</td>\n",
       "      <td>1.0</td>\n",
       "      <td>1.0</td>\n",
       "    </tr>\n",
       "    <tr>\n",
       "      <th>9</th>\n",
       "      <td>1.0</td>\n",
       "      <td>1.0</td>\n",
       "      <td>1.0</td>\n",
       "      <td>1.0</td>\n",
       "      <td>1.0</td>\n",
       "      <td>1.0</td>\n",
       "      <td>1.0</td>\n",
       "      <td>1.0</td>\n",
       "      <td>1.0</td>\n",
       "      <td>1.0</td>\n",
       "      <td>...</td>\n",
       "      <td>1.0</td>\n",
       "      <td>1.0</td>\n",
       "      <td>1.0</td>\n",
       "      <td>1.0</td>\n",
       "      <td>1.0</td>\n",
       "      <td>1.0</td>\n",
       "      <td>1.0</td>\n",
       "      <td>1.0</td>\n",
       "      <td>1.0</td>\n",
       "      <td>1.0</td>\n",
       "    </tr>\n",
       "    <tr>\n",
       "      <th>11</th>\n",
       "      <td>1.0</td>\n",
       "      <td>1.0</td>\n",
       "      <td>1.0</td>\n",
       "      <td>1.0</td>\n",
       "      <td>1.0</td>\n",
       "      <td>1.0</td>\n",
       "      <td>1.0</td>\n",
       "      <td>1.0</td>\n",
       "      <td>1.0</td>\n",
       "      <td>1.0</td>\n",
       "      <td>...</td>\n",
       "      <td>1.0</td>\n",
       "      <td>1.0</td>\n",
       "      <td>1.0</td>\n",
       "      <td>1.0</td>\n",
       "      <td>1.0</td>\n",
       "      <td>1.0</td>\n",
       "      <td>1.0</td>\n",
       "      <td>1.0</td>\n",
       "      <td>1.0</td>\n",
       "      <td>1.0</td>\n",
       "    </tr>\n",
       "    <tr>\n",
       "      <th>16</th>\n",
       "      <td>1.0</td>\n",
       "      <td>1.0</td>\n",
       "      <td>1.0</td>\n",
       "      <td>1.0</td>\n",
       "      <td>1.0</td>\n",
       "      <td>1.0</td>\n",
       "      <td>1.0</td>\n",
       "      <td>1.0</td>\n",
       "      <td>1.0</td>\n",
       "      <td>1.0</td>\n",
       "      <td>...</td>\n",
       "      <td>1.0</td>\n",
       "      <td>1.0</td>\n",
       "      <td>1.0</td>\n",
       "      <td>1.0</td>\n",
       "      <td>1.0</td>\n",
       "      <td>1.0</td>\n",
       "      <td>1.0</td>\n",
       "      <td>1.0</td>\n",
       "      <td>1.0</td>\n",
       "      <td>1.0</td>\n",
       "    </tr>\n",
       "    <tr>\n",
       "      <th>...</th>\n",
       "      <td>...</td>\n",
       "      <td>...</td>\n",
       "      <td>...</td>\n",
       "      <td>...</td>\n",
       "      <td>...</td>\n",
       "      <td>...</td>\n",
       "      <td>...</td>\n",
       "      <td>...</td>\n",
       "      <td>...</td>\n",
       "      <td>...</td>\n",
       "      <td>...</td>\n",
       "      <td>...</td>\n",
       "      <td>...</td>\n",
       "      <td>...</td>\n",
       "      <td>...</td>\n",
       "      <td>...</td>\n",
       "      <td>...</td>\n",
       "      <td>...</td>\n",
       "      <td>...</td>\n",
       "      <td>...</td>\n",
       "      <td>...</td>\n",
       "    </tr>\n",
       "    <tr>\n",
       "      <th>9980</th>\n",
       "      <td>1.0</td>\n",
       "      <td>1.0</td>\n",
       "      <td>1.0</td>\n",
       "      <td>1.0</td>\n",
       "      <td>1.0</td>\n",
       "      <td>1.0</td>\n",
       "      <td>1.0</td>\n",
       "      <td>1.0</td>\n",
       "      <td>1.0</td>\n",
       "      <td>1.0</td>\n",
       "      <td>...</td>\n",
       "      <td>1.0</td>\n",
       "      <td>1.0</td>\n",
       "      <td>1.0</td>\n",
       "      <td>1.0</td>\n",
       "      <td>1.0</td>\n",
       "      <td>1.0</td>\n",
       "      <td>1.0</td>\n",
       "      <td>1.0</td>\n",
       "      <td>1.0</td>\n",
       "      <td>1.0</td>\n",
       "    </tr>\n",
       "    <tr>\n",
       "      <th>9985</th>\n",
       "      <td>1.0</td>\n",
       "      <td>1.0</td>\n",
       "      <td>1.0</td>\n",
       "      <td>1.0</td>\n",
       "      <td>1.0</td>\n",
       "      <td>1.0</td>\n",
       "      <td>1.0</td>\n",
       "      <td>1.0</td>\n",
       "      <td>1.0</td>\n",
       "      <td>1.0</td>\n",
       "      <td>...</td>\n",
       "      <td>1.0</td>\n",
       "      <td>1.0</td>\n",
       "      <td>1.0</td>\n",
       "      <td>1.0</td>\n",
       "      <td>1.0</td>\n",
       "      <td>1.0</td>\n",
       "      <td>1.0</td>\n",
       "      <td>1.0</td>\n",
       "      <td>1.0</td>\n",
       "      <td>1.0</td>\n",
       "    </tr>\n",
       "    <tr>\n",
       "      <th>9990</th>\n",
       "      <td>1.0</td>\n",
       "      <td>1.0</td>\n",
       "      <td>1.0</td>\n",
       "      <td>1.0</td>\n",
       "      <td>1.0</td>\n",
       "      <td>1.0</td>\n",
       "      <td>1.0</td>\n",
       "      <td>1.0</td>\n",
       "      <td>1.0</td>\n",
       "      <td>1.0</td>\n",
       "      <td>...</td>\n",
       "      <td>1.0</td>\n",
       "      <td>1.0</td>\n",
       "      <td>1.0</td>\n",
       "      <td>1.0</td>\n",
       "      <td>1.0</td>\n",
       "      <td>1.0</td>\n",
       "      <td>1.0</td>\n",
       "      <td>1.0</td>\n",
       "      <td>1.0</td>\n",
       "      <td>1.0</td>\n",
       "    </tr>\n",
       "    <tr>\n",
       "      <th>9992</th>\n",
       "      <td>1.0</td>\n",
       "      <td>1.0</td>\n",
       "      <td>1.0</td>\n",
       "      <td>1.0</td>\n",
       "      <td>1.0</td>\n",
       "      <td>1.0</td>\n",
       "      <td>1.0</td>\n",
       "      <td>1.0</td>\n",
       "      <td>1.0</td>\n",
       "      <td>1.0</td>\n",
       "      <td>...</td>\n",
       "      <td>1.0</td>\n",
       "      <td>1.0</td>\n",
       "      <td>1.0</td>\n",
       "      <td>1.0</td>\n",
       "      <td>1.0</td>\n",
       "      <td>1.0</td>\n",
       "      <td>1.0</td>\n",
       "      <td>1.0</td>\n",
       "      <td>1.0</td>\n",
       "      <td>1.0</td>\n",
       "    </tr>\n",
       "    <tr>\n",
       "      <th>9999</th>\n",
       "      <td>1.0</td>\n",
       "      <td>1.0</td>\n",
       "      <td>1.0</td>\n",
       "      <td>1.0</td>\n",
       "      <td>1.0</td>\n",
       "      <td>1.0</td>\n",
       "      <td>1.0</td>\n",
       "      <td>1.0</td>\n",
       "      <td>1.0</td>\n",
       "      <td>1.0</td>\n",
       "      <td>...</td>\n",
       "      <td>1.0</td>\n",
       "      <td>1.0</td>\n",
       "      <td>1.0</td>\n",
       "      <td>1.0</td>\n",
       "      <td>1.0</td>\n",
       "      <td>1.0</td>\n",
       "      <td>1.0</td>\n",
       "      <td>1.0</td>\n",
       "      <td>1.0</td>\n",
       "      <td>1.0</td>\n",
       "    </tr>\n",
       "  </tbody>\n",
       "</table>\n",
       "<p>3673 rows × 100 columns</p>\n",
       "</div>"
      ],
      "text/plain": [
       "       0    1    2    3    4    5    6    7    8    9   ...   90   91   92  \\\n",
       "5     1.0  1.0  1.0  1.0  1.0  1.0  1.0  1.0  1.0  1.0  ...  1.0  1.0  1.0   \n",
       "7     1.0  1.0  1.0  1.0  1.0  1.0  1.0  1.0  1.0  1.0  ...  1.0  1.0  1.0   \n",
       "9     1.0  1.0  1.0  1.0  1.0  1.0  1.0  1.0  1.0  1.0  ...  1.0  1.0  1.0   \n",
       "11    1.0  1.0  1.0  1.0  1.0  1.0  1.0  1.0  1.0  1.0  ...  1.0  1.0  1.0   \n",
       "16    1.0  1.0  1.0  1.0  1.0  1.0  1.0  1.0  1.0  1.0  ...  1.0  1.0  1.0   \n",
       "...   ...  ...  ...  ...  ...  ...  ...  ...  ...  ...  ...  ...  ...  ...   \n",
       "9980  1.0  1.0  1.0  1.0  1.0  1.0  1.0  1.0  1.0  1.0  ...  1.0  1.0  1.0   \n",
       "9985  1.0  1.0  1.0  1.0  1.0  1.0  1.0  1.0  1.0  1.0  ...  1.0  1.0  1.0   \n",
       "9990  1.0  1.0  1.0  1.0  1.0  1.0  1.0  1.0  1.0  1.0  ...  1.0  1.0  1.0   \n",
       "9992  1.0  1.0  1.0  1.0  1.0  1.0  1.0  1.0  1.0  1.0  ...  1.0  1.0  1.0   \n",
       "9999  1.0  1.0  1.0  1.0  1.0  1.0  1.0  1.0  1.0  1.0  ...  1.0  1.0  1.0   \n",
       "\n",
       "       93   94   95   96   97   98   99  \n",
       "5     1.0  1.0  1.0  1.0  1.0  1.0  1.0  \n",
       "7     1.0  1.0  1.0  1.0  1.0  1.0  1.0  \n",
       "9     1.0  1.0  1.0  1.0  1.0  1.0  1.0  \n",
       "11    1.0  1.0  1.0  1.0  1.0  1.0  1.0  \n",
       "16    1.0  1.0  1.0  1.0  1.0  1.0  1.0  \n",
       "...   ...  ...  ...  ...  ...  ...  ...  \n",
       "9980  1.0  1.0  1.0  1.0  1.0  1.0  1.0  \n",
       "9985  1.0  1.0  1.0  1.0  1.0  1.0  1.0  \n",
       "9990  1.0  1.0  1.0  1.0  1.0  1.0  1.0  \n",
       "9992  1.0  1.0  1.0  1.0  1.0  1.0  1.0  \n",
       "9999  1.0  1.0  1.0  1.0  1.0  1.0  1.0  \n",
       "\n",
       "[3673 rows x 100 columns]"
      ]
     },
     "execution_count": 33,
     "metadata": {},
     "output_type": "execute_result"
    }
   ],
   "source": [
    "print(\"In other words, the following has\", nr_rows - np.sum(df_missing) ,\"rows\")\n",
    "df_exercise.dropna()"
   ]
  },
  {
   "cell_type": "markdown",
   "id": "077d9e86",
   "metadata": {},
   "source": [
    "Of course, what we have just observed can be derived mathematically. Namely, we are interested in the probability of a single row to have no NaNs. Let $E$ be the event where all the $100$ variables are not-NaN for an arbitrary row. We then have\n",
    "\\begin{align*}\n",
    "\\mathbb{P}[E] = \\prod_{i=1}^{100} \\mathbb{P}[\\text{i-th variable is not NaN}] & = \\prod_{i=1}^{100} (1 - 1/100) \\\\\n",
    "& = \\left(\\dfrac{99}{100}\\right)^{100} = (0.99)^{100}.\n",
    "\\end{align*}\n",
    "Notice that the first equality holds as each variable has a 1 per cent probability of being NaN *independently*."
   ]
  },
  {
   "cell_type": "code",
   "execution_count": 34,
   "id": "d64954a2",
   "metadata": {},
   "outputs": [
    {
     "data": {
      "text/plain": [
       "0.366"
      ]
     },
     "execution_count": 34,
     "metadata": {},
     "output_type": "execute_result"
    }
   ],
   "source": [
    "prob_E = 0.99 ** 100\n",
    "np.round(prob_E,3) #round to three decimals"
   ]
  },
  {
   "cell_type": "markdown",
   "id": "4cbe9d27",
   "metadata": {},
   "source": [
    "Since we have `nr_rows` rows in the experiment above, we except to have $0.99 *$ `nr_rows` many rows after we drop the rows with at least one NaN values. Let's see if this is correct."
   ]
  },
  {
   "cell_type": "code",
   "execution_count": 35,
   "id": "45901512",
   "metadata": {},
   "outputs": [
    {
     "name": "stdout",
     "output_type": "stream",
     "text": [
      "We expect to have 3660 rows that are not dropped, and our experiment ended with 3673 rows\n"
     ]
    }
   ],
   "source": [
    "print(\"We expect to have\", round(nr_rows * prob_E), \"rows that are not dropped, and our experiment ended with\", nr_rows - np.sum(df_missing), \"rows\")"
   ]
  },
  {
   "cell_type": "markdown",
   "id": "e3533a09",
   "metadata": {},
   "source": [
    "Although our expectation and the result of experiment are close to each other, they are not the same number. This is due to random sampling. We will see in the upcoming modules that if we increase the number of rows in this experiment, then the number of rows that are not dropped in the experiment will be equal to $(0.99)^{100}$ as we derived."
   ]
  },
  {
   "cell_type": "markdown",
   "id": "95f9cc22",
   "metadata": {},
   "source": [
    "### Step 5: Applications on real-life data"
   ]
  },
  {
   "cell_type": "markdown",
   "id": "af00fe8c",
   "metadata": {},
   "source": [
    "Let us work on the following problem.\n",
    "\n",
    "Dataset: https://www.statlearning.com/s/College.csv\n",
    "Variables are explained at [this link](https://lse-me314.github.io/solutions/ME314_assignment1_solution.html).\n",
    "\n",
    "We modify the dataset and provide you with a version which has missing values. It is named as \"college_missing.csv\""
   ]
  },
  {
   "cell_type": "markdown",
   "id": "89f48411",
   "metadata": {},
   "source": [
    "# Questions:\n",
    "### Missing values\n",
    "#### a) Read the dataset by using Pandas and have a first look\n",
    "#### b) Find out which values are missing\n",
    "#### c) Replace the missing values with the mean for the feature\n",
    "#### d) Figure out what is wrong with doing (c)\n",
    "#### e) Replace the missing values using a linear model to estimate the values"
   ]
  },
  {
   "cell_type": "markdown",
   "id": "ee60df02",
   "metadata": {},
   "source": [
    "# Solutions:\n",
    "#### a) "
   ]
  },
  {
   "cell_type": "code",
   "execution_count": 36,
   "id": "3910a355",
   "metadata": {},
   "outputs": [],
   "source": [
    "df_college = pd.read_csv(\"college_missing.csv\",index_col=0) #read the data"
   ]
  },
  {
   "cell_type": "code",
   "execution_count": 37,
   "id": "b40111c4",
   "metadata": {
    "scrolled": true
   },
   "outputs": [
    {
     "data": {
      "text/html": [
       "<div>\n",
       "<style scoped>\n",
       "    .dataframe tbody tr th:only-of-type {\n",
       "        vertical-align: middle;\n",
       "    }\n",
       "\n",
       "    .dataframe tbody tr th {\n",
       "        vertical-align: top;\n",
       "    }\n",
       "\n",
       "    .dataframe thead th {\n",
       "        text-align: right;\n",
       "    }\n",
       "</style>\n",
       "<table border=\"1\" class=\"dataframe\">\n",
       "  <thead>\n",
       "    <tr style=\"text-align: right;\">\n",
       "      <th></th>\n",
       "      <th>Apps</th>\n",
       "      <th>Accept</th>\n",
       "      <th>Enroll</th>\n",
       "      <th>Top10perc</th>\n",
       "      <th>Top25perc</th>\n",
       "      <th>F.Undergrad</th>\n",
       "      <th>P.Undergrad</th>\n",
       "      <th>PhD</th>\n",
       "      <th>S.F.Ratio</th>\n",
       "      <th>Grad.Rate</th>\n",
       "    </tr>\n",
       "  </thead>\n",
       "  <tbody>\n",
       "    <tr>\n",
       "      <th>Abilene Christian University</th>\n",
       "      <td>1660.0</td>\n",
       "      <td>1232.0</td>\n",
       "      <td>721</td>\n",
       "      <td>23</td>\n",
       "      <td>52</td>\n",
       "      <td>2885</td>\n",
       "      <td>537</td>\n",
       "      <td>70</td>\n",
       "      <td>18.1</td>\n",
       "      <td>60</td>\n",
       "    </tr>\n",
       "    <tr>\n",
       "      <th>Adelphi University</th>\n",
       "      <td>2186.0</td>\n",
       "      <td>1924.0</td>\n",
       "      <td>512</td>\n",
       "      <td>16</td>\n",
       "      <td>29</td>\n",
       "      <td>2683</td>\n",
       "      <td>1227</td>\n",
       "      <td>29</td>\n",
       "      <td>12.2</td>\n",
       "      <td>56</td>\n",
       "    </tr>\n",
       "    <tr>\n",
       "      <th>Adrian College</th>\n",
       "      <td>1428.0</td>\n",
       "      <td>1097.0</td>\n",
       "      <td>336</td>\n",
       "      <td>22</td>\n",
       "      <td>50</td>\n",
       "      <td>1036</td>\n",
       "      <td>99</td>\n",
       "      <td>53</td>\n",
       "      <td>12.9</td>\n",
       "      <td>54</td>\n",
       "    </tr>\n",
       "    <tr>\n",
       "      <th>Agnes Scott College</th>\n",
       "      <td>417.0</td>\n",
       "      <td>349.0</td>\n",
       "      <td>137</td>\n",
       "      <td>60</td>\n",
       "      <td>89</td>\n",
       "      <td>510</td>\n",
       "      <td>63</td>\n",
       "      <td>92</td>\n",
       "      <td>7.7</td>\n",
       "      <td>59</td>\n",
       "    </tr>\n",
       "    <tr>\n",
       "      <th>Alaska Pacific University</th>\n",
       "      <td>NaN</td>\n",
       "      <td>146.0</td>\n",
       "      <td>55</td>\n",
       "      <td>16</td>\n",
       "      <td>44</td>\n",
       "      <td>249</td>\n",
       "      <td>869</td>\n",
       "      <td>76</td>\n",
       "      <td>11.9</td>\n",
       "      <td>15</td>\n",
       "    </tr>\n",
       "  </tbody>\n",
       "</table>\n",
       "</div>"
      ],
      "text/plain": [
       "                                Apps  Accept  Enroll  Top10perc  Top25perc  \\\n",
       "Abilene Christian University  1660.0  1232.0     721         23         52   \n",
       "Adelphi University            2186.0  1924.0     512         16         29   \n",
       "Adrian College                1428.0  1097.0     336         22         50   \n",
       "Agnes Scott College            417.0   349.0     137         60         89   \n",
       "Alaska Pacific University        NaN   146.0      55         16         44   \n",
       "\n",
       "                              F.Undergrad  P.Undergrad  PhD  S.F.Ratio  \\\n",
       "Abilene Christian University         2885          537   70       18.1   \n",
       "Adelphi University                   2683         1227   29       12.2   \n",
       "Adrian College                       1036           99   53       12.9   \n",
       "Agnes Scott College                   510           63   92        7.7   \n",
       "Alaska Pacific University             249          869   76       11.9   \n",
       "\n",
       "                              Grad.Rate  \n",
       "Abilene Christian University         60  \n",
       "Adelphi University                   56  \n",
       "Adrian College                       54  \n",
       "Agnes Scott College                  59  \n",
       "Alaska Pacific University            15  "
      ]
     },
     "execution_count": 37,
     "metadata": {},
     "output_type": "execute_result"
    }
   ],
   "source": [
    "df_college.head() #inspect"
   ]
  },
  {
   "cell_type": "markdown",
   "id": "f0e009d1",
   "metadata": {},
   "source": [
    "#### b)"
   ]
  },
  {
   "cell_type": "code",
   "execution_count": 38,
   "id": "c730a5a7",
   "metadata": {},
   "outputs": [
    {
     "data": {
      "text/plain": [
       "Apps           6\n",
       "Accept         7\n",
       "Enroll         0\n",
       "Top10perc      0\n",
       "Top25perc      0\n",
       "F.Undergrad    0\n",
       "P.Undergrad    0\n",
       "PhD            0\n",
       "S.F.Ratio      0\n",
       "Grad.Rate      0\n",
       "dtype: int64"
      ]
     },
     "execution_count": 38,
     "metadata": {},
     "output_type": "execute_result"
    }
   ],
   "source": [
    "df_college.isna().sum() #how many missing values under each column"
   ]
  },
  {
   "cell_type": "code",
   "execution_count": 39,
   "id": "b2ce819f",
   "metadata": {},
   "outputs": [],
   "source": [
    "missing_apps = df_college[df_college['Apps'].isnull()].index.tolist() #missing applications (indexes)\n",
    "missing_accepts = df_college[df_college['Accept'].isnull()].index.tolist() #missing accepts (indexes)"
   ]
  },
  {
   "cell_type": "code",
   "execution_count": 40,
   "id": "83427292",
   "metadata": {},
   "outputs": [
    {
     "data": {
      "text/plain": [
       "['Alaska Pacific University',\n",
       " 'Columbia College MO',\n",
       " 'James Madison University',\n",
       " 'Pacific Lutheran University',\n",
       " 'University of the South',\n",
       " 'Virginia Tech']"
      ]
     },
     "execution_count": 40,
     "metadata": {},
     "output_type": "execute_result"
    }
   ],
   "source": [
    "missing_apps #names"
   ]
  },
  {
   "cell_type": "code",
   "execution_count": 41,
   "id": "2edd2246",
   "metadata": {},
   "outputs": [
    {
     "data": {
      "text/plain": [
       "['Chatham College',\n",
       " 'Mount Mary College',\n",
       " 'Muskingum College',\n",
       " 'Pennsylvania State Univ. Main Campus',\n",
       " 'University of Delaware',\n",
       " 'University of Georgia',\n",
       " 'University of North Carolina at Asheville']"
      ]
     },
     "execution_count": 41,
     "metadata": {},
     "output_type": "execute_result"
    }
   ],
   "source": [
    "missing_accepts #names"
   ]
  },
  {
   "cell_type": "markdown",
   "id": "1975f34c",
   "metadata": {},
   "source": [
    "#### c)"
   ]
  },
  {
   "cell_type": "code",
   "execution_count": 42,
   "id": "ec1aedcf",
   "metadata": {},
   "outputs": [],
   "source": [
    "mean_of_apps = df_college[\"Apps\"].mean() #compute mean of apps -- pandas automatically excludes NaNs!\n",
    "mean_of_accepts = df_college[\"Accept\"].mean() #compute mean of accepts -- pandas automatically excludes NaNs!\n",
    "df_college_v1 = df_college.copy()#copy the dataframe as we will fill the missing data (we still want to keep original, so we copy it to a new one) \n",
    "df_college_v1.loc[df_college_v1[\"Apps\"].isnull(), 'Apps']  = mean_of_apps #whenever there is missing data on \"apps\" change it with the mean\n",
    "df_college_v1.loc[df_college_v1[\"Accept\"].isnull(), 'Accept']  = mean_of_accepts #same for accepts "
   ]
  },
  {
   "cell_type": "code",
   "execution_count": 43,
   "id": "57f42c2d",
   "metadata": {},
   "outputs": [
    {
     "data": {
      "text/html": [
       "<div>\n",
       "<style scoped>\n",
       "    .dataframe tbody tr th:only-of-type {\n",
       "        vertical-align: middle;\n",
       "    }\n",
       "\n",
       "    .dataframe tbody tr th {\n",
       "        vertical-align: top;\n",
       "    }\n",
       "\n",
       "    .dataframe thead th {\n",
       "        text-align: right;\n",
       "    }\n",
       "</style>\n",
       "<table border=\"1\" class=\"dataframe\">\n",
       "  <thead>\n",
       "    <tr style=\"text-align: right;\">\n",
       "      <th></th>\n",
       "      <th>Apps</th>\n",
       "      <th>Accept</th>\n",
       "      <th>Enroll</th>\n",
       "      <th>Top10perc</th>\n",
       "      <th>Top25perc</th>\n",
       "      <th>F.Undergrad</th>\n",
       "      <th>P.Undergrad</th>\n",
       "      <th>PhD</th>\n",
       "      <th>S.F.Ratio</th>\n",
       "      <th>Grad.Rate</th>\n",
       "    </tr>\n",
       "  </thead>\n",
       "  <tbody>\n",
       "    <tr>\n",
       "      <th>Abilene Christian University</th>\n",
       "      <td>1660.000000</td>\n",
       "      <td>1232.0</td>\n",
       "      <td>721</td>\n",
       "      <td>23</td>\n",
       "      <td>52</td>\n",
       "      <td>2885</td>\n",
       "      <td>537</td>\n",
       "      <td>70</td>\n",
       "      <td>18.1</td>\n",
       "      <td>60</td>\n",
       "    </tr>\n",
       "    <tr>\n",
       "      <th>Adelphi University</th>\n",
       "      <td>2186.000000</td>\n",
       "      <td>1924.0</td>\n",
       "      <td>512</td>\n",
       "      <td>16</td>\n",
       "      <td>29</td>\n",
       "      <td>2683</td>\n",
       "      <td>1227</td>\n",
       "      <td>29</td>\n",
       "      <td>12.2</td>\n",
       "      <td>56</td>\n",
       "    </tr>\n",
       "    <tr>\n",
       "      <th>Adrian College</th>\n",
       "      <td>1428.000000</td>\n",
       "      <td>1097.0</td>\n",
       "      <td>336</td>\n",
       "      <td>22</td>\n",
       "      <td>50</td>\n",
       "      <td>1036</td>\n",
       "      <td>99</td>\n",
       "      <td>53</td>\n",
       "      <td>12.9</td>\n",
       "      <td>54</td>\n",
       "    </tr>\n",
       "    <tr>\n",
       "      <th>Agnes Scott College</th>\n",
       "      <td>417.000000</td>\n",
       "      <td>349.0</td>\n",
       "      <td>137</td>\n",
       "      <td>60</td>\n",
       "      <td>89</td>\n",
       "      <td>510</td>\n",
       "      <td>63</td>\n",
       "      <td>92</td>\n",
       "      <td>7.7</td>\n",
       "      <td>59</td>\n",
       "    </tr>\n",
       "    <tr>\n",
       "      <th>Alaska Pacific University</th>\n",
       "      <td>2985.451362</td>\n",
       "      <td>146.0</td>\n",
       "      <td>55</td>\n",
       "      <td>16</td>\n",
       "      <td>44</td>\n",
       "      <td>249</td>\n",
       "      <td>869</td>\n",
       "      <td>76</td>\n",
       "      <td>11.9</td>\n",
       "      <td>15</td>\n",
       "    </tr>\n",
       "    <tr>\n",
       "      <th>...</th>\n",
       "      <td>...</td>\n",
       "      <td>...</td>\n",
       "      <td>...</td>\n",
       "      <td>...</td>\n",
       "      <td>...</td>\n",
       "      <td>...</td>\n",
       "      <td>...</td>\n",
       "      <td>...</td>\n",
       "      <td>...</td>\n",
       "      <td>...</td>\n",
       "    </tr>\n",
       "    <tr>\n",
       "      <th>Worcester State College</th>\n",
       "      <td>2197.000000</td>\n",
       "      <td>1515.0</td>\n",
       "      <td>543</td>\n",
       "      <td>4</td>\n",
       "      <td>26</td>\n",
       "      <td>3089</td>\n",
       "      <td>2029</td>\n",
       "      <td>60</td>\n",
       "      <td>21.0</td>\n",
       "      <td>40</td>\n",
       "    </tr>\n",
       "    <tr>\n",
       "      <th>Xavier University</th>\n",
       "      <td>1959.000000</td>\n",
       "      <td>1805.0</td>\n",
       "      <td>695</td>\n",
       "      <td>24</td>\n",
       "      <td>47</td>\n",
       "      <td>2849</td>\n",
       "      <td>1107</td>\n",
       "      <td>73</td>\n",
       "      <td>13.3</td>\n",
       "      <td>83</td>\n",
       "    </tr>\n",
       "    <tr>\n",
       "      <th>Xavier University of Louisiana</th>\n",
       "      <td>2097.000000</td>\n",
       "      <td>1915.0</td>\n",
       "      <td>695</td>\n",
       "      <td>34</td>\n",
       "      <td>61</td>\n",
       "      <td>2793</td>\n",
       "      <td>166</td>\n",
       "      <td>67</td>\n",
       "      <td>14.4</td>\n",
       "      <td>49</td>\n",
       "    </tr>\n",
       "    <tr>\n",
       "      <th>Yale University</th>\n",
       "      <td>10705.000000</td>\n",
       "      <td>2453.0</td>\n",
       "      <td>1317</td>\n",
       "      <td>95</td>\n",
       "      <td>99</td>\n",
       "      <td>5217</td>\n",
       "      <td>83</td>\n",
       "      <td>96</td>\n",
       "      <td>5.8</td>\n",
       "      <td>99</td>\n",
       "    </tr>\n",
       "    <tr>\n",
       "      <th>York College of Pennsylvania</th>\n",
       "      <td>2989.000000</td>\n",
       "      <td>1855.0</td>\n",
       "      <td>691</td>\n",
       "      <td>28</td>\n",
       "      <td>63</td>\n",
       "      <td>2988</td>\n",
       "      <td>1726</td>\n",
       "      <td>75</td>\n",
       "      <td>18.1</td>\n",
       "      <td>99</td>\n",
       "    </tr>\n",
       "  </tbody>\n",
       "</table>\n",
       "<p>777 rows × 10 columns</p>\n",
       "</div>"
      ],
      "text/plain": [
       "                                        Apps  Accept  Enroll  Top10perc  \\\n",
       "Abilene Christian University     1660.000000  1232.0     721         23   \n",
       "Adelphi University               2186.000000  1924.0     512         16   \n",
       "Adrian College                   1428.000000  1097.0     336         22   \n",
       "Agnes Scott College               417.000000   349.0     137         60   \n",
       "Alaska Pacific University        2985.451362   146.0      55         16   \n",
       "...                                      ...     ...     ...        ...   \n",
       "Worcester State College          2197.000000  1515.0     543          4   \n",
       "Xavier University                1959.000000  1805.0     695         24   \n",
       "Xavier University of Louisiana   2097.000000  1915.0     695         34   \n",
       "Yale University                 10705.000000  2453.0    1317         95   \n",
       "York College of Pennsylvania     2989.000000  1855.0     691         28   \n",
       "\n",
       "                                Top25perc  F.Undergrad  P.Undergrad  PhD  \\\n",
       "Abilene Christian University           52         2885          537   70   \n",
       "Adelphi University                     29         2683         1227   29   \n",
       "Adrian College                         50         1036           99   53   \n",
       "Agnes Scott College                    89          510           63   92   \n",
       "Alaska Pacific University              44          249          869   76   \n",
       "...                                   ...          ...          ...  ...   \n",
       "Worcester State College                26         3089         2029   60   \n",
       "Xavier University                      47         2849         1107   73   \n",
       "Xavier University of Louisiana         61         2793          166   67   \n",
       "Yale University                        99         5217           83   96   \n",
       "York College of Pennsylvania           63         2988         1726   75   \n",
       "\n",
       "                                S.F.Ratio  Grad.Rate  \n",
       "Abilene Christian University         18.1         60  \n",
       "Adelphi University                   12.2         56  \n",
       "Adrian College                       12.9         54  \n",
       "Agnes Scott College                   7.7         59  \n",
       "Alaska Pacific University            11.9         15  \n",
       "...                                   ...        ...  \n",
       "Worcester State College              21.0         40  \n",
       "Xavier University                    13.3         83  \n",
       "Xavier University of Louisiana       14.4         49  \n",
       "Yale University                       5.8         99  \n",
       "York College of Pennsylvania         18.1         99  \n",
       "\n",
       "[777 rows x 10 columns]"
      ]
     },
     "execution_count": 43,
     "metadata": {},
     "output_type": "execute_result"
    }
   ],
   "source": [
    "df_college_v1"
   ]
  },
  {
   "cell_type": "code",
   "execution_count": 44,
   "id": "815877b1",
   "metadata": {},
   "outputs": [
    {
     "data": {
      "text/plain": [
       "Apps           0\n",
       "Accept         0\n",
       "Enroll         0\n",
       "Top10perc      0\n",
       "Top25perc      0\n",
       "F.Undergrad    0\n",
       "P.Undergrad    0\n",
       "PhD            0\n",
       "S.F.Ratio      0\n",
       "Grad.Rate      0\n",
       "dtype: int64"
      ]
     },
     "execution_count": 44,
     "metadata": {},
     "output_type": "execute_result"
    }
   ],
   "source": [
    "df_college_v1.isna().sum() #all fixed"
   ]
  },
  {
   "cell_type": "markdown",
   "id": "226b6fe1",
   "metadata": {},
   "source": [
    "#### d)"
   ]
  },
  {
   "cell_type": "code",
   "execution_count": 45,
   "id": "3d270ad1",
   "metadata": {},
   "outputs": [
    {
     "data": {
      "text/html": [
       "<div>\n",
       "<style scoped>\n",
       "    .dataframe tbody tr th:only-of-type {\n",
       "        vertical-align: middle;\n",
       "    }\n",
       "\n",
       "    .dataframe tbody tr th {\n",
       "        vertical-align: top;\n",
       "    }\n",
       "\n",
       "    .dataframe thead th {\n",
       "        text-align: right;\n",
       "    }\n",
       "</style>\n",
       "<table border=\"1\" class=\"dataframe\">\n",
       "  <thead>\n",
       "    <tr style=\"text-align: right;\">\n",
       "      <th></th>\n",
       "      <th>Apps</th>\n",
       "      <th>Accept</th>\n",
       "    </tr>\n",
       "  </thead>\n",
       "  <tbody>\n",
       "    <tr>\n",
       "      <th>Alaska Pacific University</th>\n",
       "      <td>2985.451362</td>\n",
       "      <td>146.0</td>\n",
       "    </tr>\n",
       "    <tr>\n",
       "      <th>Columbia College MO</th>\n",
       "      <td>2985.451362</td>\n",
       "      <td>158.0</td>\n",
       "    </tr>\n",
       "    <tr>\n",
       "      <th>James Madison University</th>\n",
       "      <td>2985.451362</td>\n",
       "      <td>5285.0</td>\n",
       "    </tr>\n",
       "    <tr>\n",
       "      <th>Pacific Lutheran University</th>\n",
       "      <td>2985.451362</td>\n",
       "      <td>1392.0</td>\n",
       "    </tr>\n",
       "    <tr>\n",
       "      <th>University of the South</th>\n",
       "      <td>2985.451362</td>\n",
       "      <td>966.0</td>\n",
       "    </tr>\n",
       "    <tr>\n",
       "      <th>Virginia Tech</th>\n",
       "      <td>2985.451362</td>\n",
       "      <td>11719.0</td>\n",
       "    </tr>\n",
       "  </tbody>\n",
       "</table>\n",
       "</div>"
      ],
      "text/plain": [
       "                                    Apps   Accept\n",
       "Alaska Pacific University    2985.451362    146.0\n",
       "Columbia College MO          2985.451362    158.0\n",
       "James Madison University     2985.451362   5285.0\n",
       "Pacific Lutheran University  2985.451362   1392.0\n",
       "University of the South      2985.451362    966.0\n",
       "Virginia Tech                2985.451362  11719.0"
      ]
     },
     "execution_count": 45,
     "metadata": {},
     "output_type": "execute_result"
    }
   ],
   "source": [
    "df_college_v1.loc[missing_apps, [\"Apps\", \"Accept\"]] #we accepted more than the applications in some unis!"
   ]
  },
  {
   "cell_type": "code",
   "execution_count": 46,
   "id": "8d37194d",
   "metadata": {},
   "outputs": [
    {
     "data": {
      "text/html": [
       "<div>\n",
       "<style scoped>\n",
       "    .dataframe tbody tr th:only-of-type {\n",
       "        vertical-align: middle;\n",
       "    }\n",
       "\n",
       "    .dataframe tbody tr th {\n",
       "        vertical-align: top;\n",
       "    }\n",
       "\n",
       "    .dataframe thead th {\n",
       "        text-align: right;\n",
       "    }\n",
       "</style>\n",
       "<table border=\"1\" class=\"dataframe\">\n",
       "  <thead>\n",
       "    <tr style=\"text-align: right;\">\n",
       "      <th></th>\n",
       "      <th>Apps</th>\n",
       "      <th>Accept</th>\n",
       "    </tr>\n",
       "  </thead>\n",
       "  <tbody>\n",
       "    <tr>\n",
       "      <th>Chatham College</th>\n",
       "      <td>212.0</td>\n",
       "      <td>1996.837662</td>\n",
       "    </tr>\n",
       "    <tr>\n",
       "      <th>Mount Mary College</th>\n",
       "      <td>235.0</td>\n",
       "      <td>1996.837662</td>\n",
       "    </tr>\n",
       "    <tr>\n",
       "      <th>Muskingum College</th>\n",
       "      <td>1109.0</td>\n",
       "      <td>1996.837662</td>\n",
       "    </tr>\n",
       "    <tr>\n",
       "      <th>Pennsylvania State Univ. Main Campus</th>\n",
       "      <td>19315.0</td>\n",
       "      <td>1996.837662</td>\n",
       "    </tr>\n",
       "    <tr>\n",
       "      <th>University of Delaware</th>\n",
       "      <td>14446.0</td>\n",
       "      <td>1996.837662</td>\n",
       "    </tr>\n",
       "    <tr>\n",
       "      <th>University of Georgia</th>\n",
       "      <td>11220.0</td>\n",
       "      <td>1996.837662</td>\n",
       "    </tr>\n",
       "    <tr>\n",
       "      <th>University of North Carolina at Asheville</th>\n",
       "      <td>1757.0</td>\n",
       "      <td>1996.837662</td>\n",
       "    </tr>\n",
       "  </tbody>\n",
       "</table>\n",
       "</div>"
      ],
      "text/plain": [
       "                                              Apps       Accept\n",
       "Chatham College                              212.0  1996.837662\n",
       "Mount Mary College                           235.0  1996.837662\n",
       "Muskingum College                           1109.0  1996.837662\n",
       "Pennsylvania State Univ. Main Campus       19315.0  1996.837662\n",
       "University of Delaware                     14446.0  1996.837662\n",
       "University of Georgia                      11220.0  1996.837662\n",
       "University of North Carolina at Asheville   1757.0  1996.837662"
      ]
     },
     "execution_count": 46,
     "metadata": {},
     "output_type": "execute_result"
    }
   ],
   "source": [
    "df_college_v1.loc[missing_accepts, [\"Apps\", \"Accept\"]] #we accepted more than the applications in some unis!"
   ]
  },
  {
   "cell_type": "markdown",
   "id": "b4ba6f18",
   "metadata": {},
   "source": [
    "#### e)"
   ]
  },
  {
   "cell_type": "code",
   "execution_count": 47,
   "id": "c4c2c79b",
   "metadata": {},
   "outputs": [],
   "source": [
    "df_college_v2 = df_college.copy() #copy to a new one (we will use lin-reg)"
   ]
  },
  {
   "cell_type": "code",
   "execution_count": 48,
   "id": "71e3d5f3",
   "metadata": {},
   "outputs": [],
   "source": [
    "df_college_v2_complete = df_college_v2.dropna() #drop nans as we want to fit a linear model \n",
    "df_college_v2_complete = df_college_v2_complete[[\"Apps\", \"Accept\"]] #take only relevant columns"
   ]
  },
  {
   "cell_type": "code",
   "execution_count": 49,
   "id": "788576d6",
   "metadata": {},
   "outputs": [
    {
     "data": {
      "text/html": [
       "<div>\n",
       "<style scoped>\n",
       "    .dataframe tbody tr th:only-of-type {\n",
       "        vertical-align: middle;\n",
       "    }\n",
       "\n",
       "    .dataframe tbody tr th {\n",
       "        vertical-align: top;\n",
       "    }\n",
       "\n",
       "    .dataframe thead th {\n",
       "        text-align: right;\n",
       "    }\n",
       "</style>\n",
       "<table border=\"1\" class=\"dataframe\">\n",
       "  <thead>\n",
       "    <tr style=\"text-align: right;\">\n",
       "      <th></th>\n",
       "      <th>Apps</th>\n",
       "      <th>Accept</th>\n",
       "    </tr>\n",
       "  </thead>\n",
       "  <tbody>\n",
       "    <tr>\n",
       "      <th>Abilene Christian University</th>\n",
       "      <td>1660.0</td>\n",
       "      <td>1232.0</td>\n",
       "    </tr>\n",
       "    <tr>\n",
       "      <th>Adelphi University</th>\n",
       "      <td>2186.0</td>\n",
       "      <td>1924.0</td>\n",
       "    </tr>\n",
       "    <tr>\n",
       "      <th>Adrian College</th>\n",
       "      <td>1428.0</td>\n",
       "      <td>1097.0</td>\n",
       "    </tr>\n",
       "    <tr>\n",
       "      <th>Agnes Scott College</th>\n",
       "      <td>417.0</td>\n",
       "      <td>349.0</td>\n",
       "    </tr>\n",
       "    <tr>\n",
       "      <th>Albertson College</th>\n",
       "      <td>587.0</td>\n",
       "      <td>479.0</td>\n",
       "    </tr>\n",
       "  </tbody>\n",
       "</table>\n",
       "</div>"
      ],
      "text/plain": [
       "                                Apps  Accept\n",
       "Abilene Christian University  1660.0  1232.0\n",
       "Adelphi University            2186.0  1924.0\n",
       "Adrian College                1428.0  1097.0\n",
       "Agnes Scott College            417.0   349.0\n",
       "Albertson College              587.0   479.0"
      ]
     },
     "execution_count": 49,
     "metadata": {},
     "output_type": "execute_result"
    }
   ],
   "source": [
    "df_college_v2_complete.head() #have a look"
   ]
  },
  {
   "cell_type": "code",
   "execution_count": 50,
   "id": "f983e487",
   "metadata": {},
   "outputs": [],
   "source": [
    "slope_predict_accept, intercept_predict_accept, r_value, p_value, std_err = \\\n",
    "    linregress(df_college_v2_complete[\"Apps\"],df_college_v2_complete[\"Accept\"]) #use scipy to fit a linear regression\n",
    "#this model explains the \"accepts\" by using \"Apps\" as predictors"
   ]
  },
  {
   "cell_type": "code",
   "execution_count": 51,
   "id": "61c926d3",
   "metadata": {},
   "outputs": [],
   "source": [
    "slope_predict_apps, intercept_predict_apps, r_value, p_value, std_err = \\\n",
    "    linregress(df_college_v2_complete[\"Accept\"],df_college_v2_complete[\"Apps\"]) #use scipy\n",
    "#this model explains the \"Apps\" by using \"accepts\" as predictors"
   ]
  },
  {
   "cell_type": "code",
   "execution_count": 52,
   "id": "9bd9df35",
   "metadata": {},
   "outputs": [],
   "source": [
    "#Let's fill missing values now based on the linear model\n",
    "df_college_v2[\"Accept\"] = df_college_v2.apply(lambda row:\\\n",
    "    slope_predict_accept*row[\"Apps\"] + intercept_predict_accept if math.isnan(row[\"Accept\"]) else row[\"Accept\"], axis=1)"
   ]
  },
  {
   "cell_type": "code",
   "execution_count": 53,
   "id": "436695a9",
   "metadata": {},
   "outputs": [],
   "source": [
    "#Let's fill missing values now based on the linear model\n",
    "df_college_v2[\"Apps\"] = df_college_v2.apply(lambda row:\\\n",
    "    slope_predict_apps*row[\"Accept\"] + intercept_predict_apps if math.isnan(row[\"Apps\"]) else row[\"Apps\"], axis=1)"
   ]
  },
  {
   "cell_type": "code",
   "execution_count": 54,
   "id": "ce4616e8",
   "metadata": {},
   "outputs": [
    {
     "data": {
      "text/html": [
       "<div>\n",
       "<style scoped>\n",
       "    .dataframe tbody tr th:only-of-type {\n",
       "        vertical-align: middle;\n",
       "    }\n",
       "\n",
       "    .dataframe tbody tr th {\n",
       "        vertical-align: top;\n",
       "    }\n",
       "\n",
       "    .dataframe thead th {\n",
       "        text-align: right;\n",
       "    }\n",
       "</style>\n",
       "<table border=\"1\" class=\"dataframe\">\n",
       "  <thead>\n",
       "    <tr style=\"text-align: right;\">\n",
       "      <th></th>\n",
       "      <th>Apps</th>\n",
       "      <th>Accept</th>\n",
       "      <th>Enroll</th>\n",
       "      <th>Top10perc</th>\n",
       "      <th>Top25perc</th>\n",
       "      <th>F.Undergrad</th>\n",
       "      <th>P.Undergrad</th>\n",
       "      <th>PhD</th>\n",
       "      <th>S.F.Ratio</th>\n",
       "      <th>Grad.Rate</th>\n",
       "    </tr>\n",
       "  </thead>\n",
       "  <tbody>\n",
       "    <tr>\n",
       "      <th>Abilene Christian University</th>\n",
       "      <td>1660.000000</td>\n",
       "      <td>1232.0</td>\n",
       "      <td>721</td>\n",
       "      <td>23</td>\n",
       "      <td>52</td>\n",
       "      <td>2885</td>\n",
       "      <td>537</td>\n",
       "      <td>70</td>\n",
       "      <td>18.1</td>\n",
       "      <td>60</td>\n",
       "    </tr>\n",
       "    <tr>\n",
       "      <th>Adelphi University</th>\n",
       "      <td>2186.000000</td>\n",
       "      <td>1924.0</td>\n",
       "      <td>512</td>\n",
       "      <td>16</td>\n",
       "      <td>29</td>\n",
       "      <td>2683</td>\n",
       "      <td>1227</td>\n",
       "      <td>29</td>\n",
       "      <td>12.2</td>\n",
       "      <td>56</td>\n",
       "    </tr>\n",
       "    <tr>\n",
       "      <th>Adrian College</th>\n",
       "      <td>1428.000000</td>\n",
       "      <td>1097.0</td>\n",
       "      <td>336</td>\n",
       "      <td>22</td>\n",
       "      <td>50</td>\n",
       "      <td>1036</td>\n",
       "      <td>99</td>\n",
       "      <td>53</td>\n",
       "      <td>12.9</td>\n",
       "      <td>54</td>\n",
       "    </tr>\n",
       "    <tr>\n",
       "      <th>Agnes Scott College</th>\n",
       "      <td>417.000000</td>\n",
       "      <td>349.0</td>\n",
       "      <td>137</td>\n",
       "      <td>60</td>\n",
       "      <td>89</td>\n",
       "      <td>510</td>\n",
       "      <td>63</td>\n",
       "      <td>92</td>\n",
       "      <td>7.7</td>\n",
       "      <td>59</td>\n",
       "    </tr>\n",
       "    <tr>\n",
       "      <th>Alaska Pacific University</th>\n",
       "      <td>213.322731</td>\n",
       "      <td>146.0</td>\n",
       "      <td>55</td>\n",
       "      <td>16</td>\n",
       "      <td>44</td>\n",
       "      <td>249</td>\n",
       "      <td>869</td>\n",
       "      <td>76</td>\n",
       "      <td>11.9</td>\n",
       "      <td>15</td>\n",
       "    </tr>\n",
       "    <tr>\n",
       "      <th>...</th>\n",
       "      <td>...</td>\n",
       "      <td>...</td>\n",
       "      <td>...</td>\n",
       "      <td>...</td>\n",
       "      <td>...</td>\n",
       "      <td>...</td>\n",
       "      <td>...</td>\n",
       "      <td>...</td>\n",
       "      <td>...</td>\n",
       "      <td>...</td>\n",
       "    </tr>\n",
       "    <tr>\n",
       "      <th>Worcester State College</th>\n",
       "      <td>2197.000000</td>\n",
       "      <td>1515.0</td>\n",
       "      <td>543</td>\n",
       "      <td>4</td>\n",
       "      <td>26</td>\n",
       "      <td>3089</td>\n",
       "      <td>2029</td>\n",
       "      <td>60</td>\n",
       "      <td>21.0</td>\n",
       "      <td>40</td>\n",
       "    </tr>\n",
       "    <tr>\n",
       "      <th>Xavier University</th>\n",
       "      <td>1959.000000</td>\n",
       "      <td>1805.0</td>\n",
       "      <td>695</td>\n",
       "      <td>24</td>\n",
       "      <td>47</td>\n",
       "      <td>2849</td>\n",
       "      <td>1107</td>\n",
       "      <td>73</td>\n",
       "      <td>13.3</td>\n",
       "      <td>83</td>\n",
       "    </tr>\n",
       "    <tr>\n",
       "      <th>Xavier University of Louisiana</th>\n",
       "      <td>2097.000000</td>\n",
       "      <td>1915.0</td>\n",
       "      <td>695</td>\n",
       "      <td>34</td>\n",
       "      <td>61</td>\n",
       "      <td>2793</td>\n",
       "      <td>166</td>\n",
       "      <td>67</td>\n",
       "      <td>14.4</td>\n",
       "      <td>49</td>\n",
       "    </tr>\n",
       "    <tr>\n",
       "      <th>Yale University</th>\n",
       "      <td>10705.000000</td>\n",
       "      <td>2453.0</td>\n",
       "      <td>1317</td>\n",
       "      <td>95</td>\n",
       "      <td>99</td>\n",
       "      <td>5217</td>\n",
       "      <td>83</td>\n",
       "      <td>96</td>\n",
       "      <td>5.8</td>\n",
       "      <td>99</td>\n",
       "    </tr>\n",
       "    <tr>\n",
       "      <th>York College of Pennsylvania</th>\n",
       "      <td>2989.000000</td>\n",
       "      <td>1855.0</td>\n",
       "      <td>691</td>\n",
       "      <td>28</td>\n",
       "      <td>63</td>\n",
       "      <td>2988</td>\n",
       "      <td>1726</td>\n",
       "      <td>75</td>\n",
       "      <td>18.1</td>\n",
       "      <td>99</td>\n",
       "    </tr>\n",
       "  </tbody>\n",
       "</table>\n",
       "<p>777 rows × 10 columns</p>\n",
       "</div>"
      ],
      "text/plain": [
       "                                        Apps  Accept  Enroll  Top10perc  \\\n",
       "Abilene Christian University     1660.000000  1232.0     721         23   \n",
       "Adelphi University               2186.000000  1924.0     512         16   \n",
       "Adrian College                   1428.000000  1097.0     336         22   \n",
       "Agnes Scott College               417.000000   349.0     137         60   \n",
       "Alaska Pacific University         213.322731   146.0      55         16   \n",
       "...                                      ...     ...     ...        ...   \n",
       "Worcester State College          2197.000000  1515.0     543          4   \n",
       "Xavier University                1959.000000  1805.0     695         24   \n",
       "Xavier University of Louisiana   2097.000000  1915.0     695         34   \n",
       "Yale University                 10705.000000  2453.0    1317         95   \n",
       "York College of Pennsylvania     2989.000000  1855.0     691         28   \n",
       "\n",
       "                                Top25perc  F.Undergrad  P.Undergrad  PhD  \\\n",
       "Abilene Christian University           52         2885          537   70   \n",
       "Adelphi University                     29         2683         1227   29   \n",
       "Adrian College                         50         1036           99   53   \n",
       "Agnes Scott College                    89          510           63   92   \n",
       "Alaska Pacific University              44          249          869   76   \n",
       "...                                   ...          ...          ...  ...   \n",
       "Worcester State College                26         3089         2029   60   \n",
       "Xavier University                      47         2849         1107   73   \n",
       "Xavier University of Louisiana         61         2793          166   67   \n",
       "Yale University                        99         5217           83   96   \n",
       "York College of Pennsylvania           63         2988         1726   75   \n",
       "\n",
       "                                S.F.Ratio  Grad.Rate  \n",
       "Abilene Christian University         18.1         60  \n",
       "Adelphi University                   12.2         56  \n",
       "Adrian College                       12.9         54  \n",
       "Agnes Scott College                   7.7         59  \n",
       "Alaska Pacific University            11.9         15  \n",
       "...                                   ...        ...  \n",
       "Worcester State College              21.0         40  \n",
       "Xavier University                    13.3         83  \n",
       "Xavier University of Louisiana       14.4         49  \n",
       "Yale University                       5.8         99  \n",
       "York College of Pennsylvania         18.1         99  \n",
       "\n",
       "[777 rows x 10 columns]"
      ]
     },
     "execution_count": 54,
     "metadata": {},
     "output_type": "execute_result"
    }
   ],
   "source": [
    "df_college_v2"
   ]
  },
  {
   "cell_type": "code",
   "execution_count": 55,
   "id": "4988ceca",
   "metadata": {},
   "outputs": [
    {
     "data": {
      "text/html": [
       "<div>\n",
       "<style scoped>\n",
       "    .dataframe tbody tr th:only-of-type {\n",
       "        vertical-align: middle;\n",
       "    }\n",
       "\n",
       "    .dataframe tbody tr th {\n",
       "        vertical-align: top;\n",
       "    }\n",
       "\n",
       "    .dataframe thead th {\n",
       "        text-align: right;\n",
       "    }\n",
       "</style>\n",
       "<table border=\"1\" class=\"dataframe\">\n",
       "  <thead>\n",
       "    <tr style=\"text-align: right;\">\n",
       "      <th></th>\n",
       "      <th>Apps</th>\n",
       "      <th>Accept</th>\n",
       "    </tr>\n",
       "  </thead>\n",
       "  <tbody>\n",
       "    <tr>\n",
       "      <th>Alaska Pacific University</th>\n",
       "      <td>213.322731</td>\n",
       "      <td>146.0</td>\n",
       "    </tr>\n",
       "    <tr>\n",
       "      <th>Columbia College MO</th>\n",
       "      <td>231.160421</td>\n",
       "      <td>158.0</td>\n",
       "    </tr>\n",
       "    <tr>\n",
       "      <th>James Madison University</th>\n",
       "      <td>7852.313682</td>\n",
       "      <td>5285.0</td>\n",
       "    </tr>\n",
       "    <tr>\n",
       "      <th>Pacific Lutheran University</th>\n",
       "      <td>2065.469593</td>\n",
       "      <td>1392.0</td>\n",
       "    </tr>\n",
       "    <tr>\n",
       "      <th>University of the South</th>\n",
       "      <td>1432.231581</td>\n",
       "      <td>966.0</td>\n",
       "    </tr>\n",
       "    <tr>\n",
       "      <th>Virginia Tech</th>\n",
       "      <td>17416.288731</td>\n",
       "      <td>11719.0</td>\n",
       "    </tr>\n",
       "  </tbody>\n",
       "</table>\n",
       "</div>"
      ],
      "text/plain": [
       "                                     Apps   Accept\n",
       "Alaska Pacific University      213.322731    146.0\n",
       "Columbia College MO            231.160421    158.0\n",
       "James Madison University      7852.313682   5285.0\n",
       "Pacific Lutheran University   2065.469593   1392.0\n",
       "University of the South       1432.231581    966.0\n",
       "Virginia Tech                17416.288731  11719.0"
      ]
     },
     "execution_count": 55,
     "metadata": {},
     "output_type": "execute_result"
    }
   ],
   "source": [
    "df_college_v2.loc[missing_apps, [\"Apps\", \"Accept\"]] #we accepted more than the applications in some unis!\n",
    "# all stable"
   ]
  },
  {
   "cell_type": "code",
   "execution_count": 56,
   "id": "73d842b6",
   "metadata": {
    "scrolled": true
   },
   "outputs": [
    {
     "data": {
      "text/html": [
       "<div>\n",
       "<style scoped>\n",
       "    .dataframe tbody tr th:only-of-type {\n",
       "        vertical-align: middle;\n",
       "    }\n",
       "\n",
       "    .dataframe tbody tr th {\n",
       "        vertical-align: top;\n",
       "    }\n",
       "\n",
       "    .dataframe thead th {\n",
       "        text-align: right;\n",
       "    }\n",
       "</style>\n",
       "<table border=\"1\" class=\"dataframe\">\n",
       "  <thead>\n",
       "    <tr style=\"text-align: right;\">\n",
       "      <th></th>\n",
       "      <th>Apps</th>\n",
       "      <th>Accept</th>\n",
       "    </tr>\n",
       "  </thead>\n",
       "  <tbody>\n",
       "    <tr>\n",
       "      <th>Chatham College</th>\n",
       "      <td>212.0</td>\n",
       "      <td>355.819002</td>\n",
       "    </tr>\n",
       "    <tr>\n",
       "      <th>Mount Mary College</th>\n",
       "      <td>235.0</td>\n",
       "      <td>369.521578</td>\n",
       "    </tr>\n",
       "    <tr>\n",
       "      <th>Muskingum College</th>\n",
       "      <td>1109.0</td>\n",
       "      <td>890.219466</td>\n",
       "    </tr>\n",
       "    <tr>\n",
       "      <th>Pennsylvania State Univ. Main Campus</th>\n",
       "      <td>19315.0</td>\n",
       "      <td>11736.702035</td>\n",
       "    </tr>\n",
       "    <tr>\n",
       "      <th>University of Delaware</th>\n",
       "      <td>14446.0</td>\n",
       "      <td>8835.926267</td>\n",
       "    </tr>\n",
       "    <tr>\n",
       "      <th>University of Georgia</th>\n",
       "      <td>11220.0</td>\n",
       "      <td>6913.991039</td>\n",
       "    </tr>\n",
       "    <tr>\n",
       "      <th>University of North Carolina at Asheville</th>\n",
       "      <td>1757.0</td>\n",
       "      <td>1276.274652</td>\n",
       "    </tr>\n",
       "  </tbody>\n",
       "</table>\n",
       "</div>"
      ],
      "text/plain": [
       "                                              Apps        Accept\n",
       "Chatham College                              212.0    355.819002\n",
       "Mount Mary College                           235.0    369.521578\n",
       "Muskingum College                           1109.0    890.219466\n",
       "Pennsylvania State Univ. Main Campus       19315.0  11736.702035\n",
       "University of Delaware                     14446.0   8835.926267\n",
       "University of Georgia                      11220.0   6913.991039\n",
       "University of North Carolina at Asheville   1757.0   1276.274652"
      ]
     },
     "execution_count": 56,
     "metadata": {},
     "output_type": "execute_result"
    }
   ],
   "source": [
    "df_college_v2.loc[missing_accepts, [\"Apps\", \"Accept\"]] #we accepted more than the applications in some unis!\n",
    "# only firsty two have Accept > Apps but better than before!"
   ]
  }
 ],
 "metadata": {
  "kernelspec": {
   "display_name": "Python 3 (ipykernel)",
   "language": "python",
   "name": "python3"
  },
  "language_info": {
   "codemirror_mode": {
    "name": "ipython",
    "version": 3
   },
   "file_extension": ".py",
   "mimetype": "text/x-python",
   "name": "python",
   "nbconvert_exporter": "python",
   "pygments_lexer": "ipython3",
   "version": "3.8.8"
  }
 },
 "nbformat": 4,
 "nbformat_minor": 5
}
